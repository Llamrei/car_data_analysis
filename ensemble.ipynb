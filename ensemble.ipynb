{
 "cells": [
  {
   "cell_type": "code",
   "execution_count": 1,
   "metadata": {},
   "outputs": [
    {
     "data": {
      "text/plain": [
       "'figs/2021-05-31T22:17:07'"
      ]
     },
     "execution_count": 1,
     "metadata": {},
     "output_type": "execute_result"
    }
   ],
   "source": [
    "import matplotlib.pyplot as plt\n",
    "import numpy as np\n",
    "import pandas as pd\n",
    "from pathlib import Path\n",
    "from tqdm import tqdm\n",
    "\n",
    "import seaborn as sns\n",
    "\n",
    "from datetime import datetime\n",
    "saving_prefix = datetime.now().replace(microsecond=0).isoformat()\n",
    "saving_prefix = str(Path('.') / \"figs\" / saving_prefix)\n",
    "saving_prefix"
   ]
  },
  {
   "cell_type": "code",
   "execution_count": 2,
   "metadata": {},
   "outputs": [
    {
     "name": "stderr",
     "output_type": "stream",
     "text": [
      "100%|██████████| 101/101 [00:12<00:00,  7.87it/s]\n"
     ]
    },
    {
     "data": {
      "text/plain": [
       "datetime.datetime(2021, 5, 31, 22, 17, 23, 753729)"
      ]
     },
     "execution_count": 2,
     "metadata": {},
     "output_type": "execute_result"
    }
   ],
   "source": [
    "results_dir = Path(\"/home/alexander/projects/car_data_analysis/results/ensemble\")\n",
    "runtimes = dict()\n",
    "results = []\n",
    "\n",
    "for exp_folder in tqdm(list(results_dir.glob(\"*[!.txt]\"))):\n",
    "    if exp_folder.is_dir():\n",
    "        exp = exp_folder.stem\n",
    "        for method_folder in exp_folder.glob(\"*\"):\n",
    "            method = method_folder.stem\n",
    "            # One file per method\n",
    "            for file in method_folder.glob(\"*.csv\"):\n",
    "                runtime = file.stem.split(\"_\")[-1]\n",
    "                this_results = pd.read_csv(file)\n",
    "                this_results[\"method\"] = method\n",
    "                this_results[\"exp\"] = exp\n",
    "                if method in runtimes:\n",
    "                    runtimes[method].append(runtime)\n",
    "                else:\n",
    "                    runtimes[method] = list(runtime)\n",
    "                results.append(this_results)\n",
    "    else:\n",
    "        print(f\"Ignoring {exp_folder}\")\n",
    "\n",
    "results = pd.concat(results)\n",
    "datetime.now()"
   ]
  },
  {
   "cell_type": "code",
   "execution_count": 3,
   "metadata": {},
   "outputs": [
    {
     "data": {
      "text/html": [
       "<div>\n",
       "<style scoped>\n",
       "    .dataframe tbody tr th:only-of-type {\n",
       "        vertical-align: middle;\n",
       "    }\n",
       "\n",
       "    .dataframe tbody tr th {\n",
       "        vertical-align: top;\n",
       "    }\n",
       "\n",
       "    .dataframe thead th {\n",
       "        text-align: right;\n",
       "    }\n",
       "</style>\n",
       "<table border=\"1\" class=\"dataframe\">\n",
       "  <thead>\n",
       "    <tr style=\"text-align: right;\">\n",
       "      <th></th>\n",
       "      <th>id</th>\n",
       "      <th>price</th>\n",
       "      <th>prediction</th>\n",
       "      <th>test</th>\n",
       "      <th>method</th>\n",
       "      <th>exp</th>\n",
       "    </tr>\n",
       "  </thead>\n",
       "  <tbody>\n",
       "    <tr>\n",
       "      <th>0</th>\n",
       "      <td>0-1</td>\n",
       "      <td>750</td>\n",
       "      <td>1212.569167</td>\n",
       "      <td>0</td>\n",
       "      <td>RF</td>\n",
       "      <td>61</td>\n",
       "    </tr>\n",
       "    <tr>\n",
       "      <th>1</th>\n",
       "      <td>0-100</td>\n",
       "      <td>850</td>\n",
       "      <td>974.411300</td>\n",
       "      <td>0</td>\n",
       "      <td>RF</td>\n",
       "      <td>61</td>\n",
       "    </tr>\n",
       "    <tr>\n",
       "      <th>2</th>\n",
       "      <td>0-102</td>\n",
       "      <td>799</td>\n",
       "      <td>930.211167</td>\n",
       "      <td>0</td>\n",
       "      <td>RF</td>\n",
       "      <td>61</td>\n",
       "    </tr>\n",
       "    <tr>\n",
       "      <th>3</th>\n",
       "      <td>0-103</td>\n",
       "      <td>795</td>\n",
       "      <td>938.770967</td>\n",
       "      <td>0</td>\n",
       "      <td>RF</td>\n",
       "      <td>61</td>\n",
       "    </tr>\n",
       "    <tr>\n",
       "      <th>4</th>\n",
       "      <td>0-105</td>\n",
       "      <td>1000</td>\n",
       "      <td>1307.722667</td>\n",
       "      <td>0</td>\n",
       "      <td>RF</td>\n",
       "      <td>61</td>\n",
       "    </tr>\n",
       "    <tr>\n",
       "      <th>...</th>\n",
       "      <td>...</td>\n",
       "      <td>...</td>\n",
       "      <td>...</td>\n",
       "      <td>...</td>\n",
       "      <td>...</td>\n",
       "      <td>...</td>\n",
       "    </tr>\n",
       "    <tr>\n",
       "      <th>34826</th>\n",
       "      <td>49-143</td>\n",
       "      <td>3375</td>\n",
       "      <td>3801.443000</td>\n",
       "      <td>1</td>\n",
       "      <td>NN</td>\n",
       "      <td>82</td>\n",
       "    </tr>\n",
       "    <tr>\n",
       "      <th>34827</th>\n",
       "      <td>55-69</td>\n",
       "      <td>6995</td>\n",
       "      <td>7790.824700</td>\n",
       "      <td>1</td>\n",
       "      <td>NN</td>\n",
       "      <td>82</td>\n",
       "    </tr>\n",
       "    <tr>\n",
       "      <th>34828</th>\n",
       "      <td>55-256</td>\n",
       "      <td>6450</td>\n",
       "      <td>7176.462400</td>\n",
       "      <td>1</td>\n",
       "      <td>NN</td>\n",
       "      <td>82</td>\n",
       "    </tr>\n",
       "    <tr>\n",
       "      <th>34829</th>\n",
       "      <td>88-37</td>\n",
       "      <td>1995</td>\n",
       "      <td>1898.041100</td>\n",
       "      <td>1</td>\n",
       "      <td>NN</td>\n",
       "      <td>82</td>\n",
       "    </tr>\n",
       "    <tr>\n",
       "      <th>34830</th>\n",
       "      <td>50-230</td>\n",
       "      <td>4595</td>\n",
       "      <td>4645.656200</td>\n",
       "      <td>1</td>\n",
       "      <td>NN</td>\n",
       "      <td>82</td>\n",
       "    </tr>\n",
       "  </tbody>\n",
       "</table>\n",
       "<p>20410966 rows × 6 columns</p>\n",
       "</div>"
      ],
      "text/plain": [
       "           id  price   prediction  test method exp\n",
       "0         0-1    750  1212.569167     0     RF  61\n",
       "1       0-100    850   974.411300     0     RF  61\n",
       "2       0-102    799   930.211167     0     RF  61\n",
       "3       0-103    795   938.770967     0     RF  61\n",
       "4       0-105   1000  1307.722667     0     RF  61\n",
       "...       ...    ...          ...   ...    ...  ..\n",
       "34826  49-143   3375  3801.443000     1     NN  82\n",
       "34827   55-69   6995  7790.824700     1     NN  82\n",
       "34828  55-256   6450  7176.462400     1     NN  82\n",
       "34829   88-37   1995  1898.041100     1     NN  82\n",
       "34830  50-230   4595  4645.656200     1     NN  82\n",
       "\n",
       "[20410966 rows x 6 columns]"
      ]
     },
     "execution_count": 3,
     "metadata": {},
     "output_type": "execute_result"
    }
   ],
   "source": [
    "results"
   ]
  },
  {
   "cell_type": "code",
   "execution_count": 4,
   "metadata": {},
   "outputs": [
    {
     "name": "stdout",
     "output_type": "stream",
     "text": [
      "{'GLM', 'CNN', 'RF', 'LM', 'NLP', 'NN'}\n"
     ]
    },
    {
     "data": {
      "text/html": [
       "<div>\n",
       "<style scoped>\n",
       "    .dataframe tbody tr th:only-of-type {\n",
       "        vertical-align: middle;\n",
       "    }\n",
       "\n",
       "    .dataframe tbody tr th {\n",
       "        vertical-align: top;\n",
       "    }\n",
       "\n",
       "    .dataframe thead th {\n",
       "        text-align: right;\n",
       "    }\n",
       "</style>\n",
       "<table border=\"1\" class=\"dataframe\">\n",
       "  <thead>\n",
       "    <tr style=\"text-align: right;\">\n",
       "      <th></th>\n",
       "      <th>id</th>\n",
       "      <th>price</th>\n",
       "      <th>prediction</th>\n",
       "      <th>test</th>\n",
       "      <th>method</th>\n",
       "      <th>exp</th>\n",
       "    </tr>\n",
       "  </thead>\n",
       "  <tbody>\n",
       "    <tr>\n",
       "      <th>0</th>\n",
       "      <td>0-1</td>\n",
       "      <td>750</td>\n",
       "      <td>1212.569167</td>\n",
       "      <td>0</td>\n",
       "      <td>RF</td>\n",
       "      <td>61</td>\n",
       "    </tr>\n",
       "    <tr>\n",
       "      <th>1</th>\n",
       "      <td>0-100</td>\n",
       "      <td>850</td>\n",
       "      <td>974.411300</td>\n",
       "      <td>0</td>\n",
       "      <td>RF</td>\n",
       "      <td>61</td>\n",
       "    </tr>\n",
       "    <tr>\n",
       "      <th>2</th>\n",
       "      <td>0-102</td>\n",
       "      <td>799</td>\n",
       "      <td>930.211167</td>\n",
       "      <td>0</td>\n",
       "      <td>RF</td>\n",
       "      <td>61</td>\n",
       "    </tr>\n",
       "    <tr>\n",
       "      <th>3</th>\n",
       "      <td>0-103</td>\n",
       "      <td>795</td>\n",
       "      <td>938.770967</td>\n",
       "      <td>0</td>\n",
       "      <td>RF</td>\n",
       "      <td>61</td>\n",
       "    </tr>\n",
       "    <tr>\n",
       "      <th>4</th>\n",
       "      <td>0-105</td>\n",
       "      <td>1000</td>\n",
       "      <td>1307.722667</td>\n",
       "      <td>0</td>\n",
       "      <td>RF</td>\n",
       "      <td>61</td>\n",
       "    </tr>\n",
       "    <tr>\n",
       "      <th>...</th>\n",
       "      <td>...</td>\n",
       "      <td>...</td>\n",
       "      <td>...</td>\n",
       "      <td>...</td>\n",
       "      <td>...</td>\n",
       "      <td>...</td>\n",
       "    </tr>\n",
       "    <tr>\n",
       "      <th>34826</th>\n",
       "      <td>49-143</td>\n",
       "      <td>3375</td>\n",
       "      <td>3801.443000</td>\n",
       "      <td>1</td>\n",
       "      <td>NN</td>\n",
       "      <td>82</td>\n",
       "    </tr>\n",
       "    <tr>\n",
       "      <th>34827</th>\n",
       "      <td>55-69</td>\n",
       "      <td>6995</td>\n",
       "      <td>7790.824700</td>\n",
       "      <td>1</td>\n",
       "      <td>NN</td>\n",
       "      <td>82</td>\n",
       "    </tr>\n",
       "    <tr>\n",
       "      <th>34828</th>\n",
       "      <td>55-256</td>\n",
       "      <td>6450</td>\n",
       "      <td>7176.462400</td>\n",
       "      <td>1</td>\n",
       "      <td>NN</td>\n",
       "      <td>82</td>\n",
       "    </tr>\n",
       "    <tr>\n",
       "      <th>34829</th>\n",
       "      <td>88-37</td>\n",
       "      <td>1995</td>\n",
       "      <td>1898.041100</td>\n",
       "      <td>1</td>\n",
       "      <td>NN</td>\n",
       "      <td>82</td>\n",
       "    </tr>\n",
       "    <tr>\n",
       "      <th>34830</th>\n",
       "      <td>50-230</td>\n",
       "      <td>4595</td>\n",
       "      <td>4645.656200</td>\n",
       "      <td>1</td>\n",
       "      <td>NN</td>\n",
       "      <td>82</td>\n",
       "    </tr>\n",
       "  </tbody>\n",
       "</table>\n",
       "<p>17897292 rows × 6 columns</p>\n",
       "</div>"
      ],
      "text/plain": [
       "           id  price   prediction  test method  exp\n",
       "0         0-1    750  1212.569167     0     RF   61\n",
       "1       0-100    850   974.411300     0     RF   61\n",
       "2       0-102    799   930.211167     0     RF   61\n",
       "3       0-103    795   938.770967     0     RF   61\n",
       "4       0-105   1000  1307.722667     0     RF   61\n",
       "...       ...    ...          ...   ...    ...  ...\n",
       "34826  49-143   3375  3801.443000     1     NN   82\n",
       "34827   55-69   6995  7790.824700     1     NN   82\n",
       "34828  55-256   6450  7176.462400     1     NN   82\n",
       "34829   88-37   1995  1898.041100     1     NN   82\n",
       "34830  50-230   4595  4645.656200     1     NN   82\n",
       "\n",
       "[17897292 rows x 6 columns]"
      ]
     },
     "execution_count": 4,
     "metadata": {},
     "output_type": "execute_result"
    }
   ],
   "source": [
    "all_methods = [\"CNN\", \"NLP\", \"NN\", \"LM\", \"GLM\", \"RF\"]\n",
    "included_methods = all_methods\n",
    "# included_methods = [\"NLP\", \"NN\", \"LM\", \"GLM\", \"RF\"]\n",
    "# included_methods = [\"NLP\", \"RF\"]\n",
    "# included_methods = [\"NN\", \"LM\", \"GLM\", \"RF\"]\n",
    "# included_methods = [\"CNN\", \"NLP\"]\n",
    "\n",
    "overall = results\n",
    "overall[\"exp\"] = pd.to_numeric(overall[\"exp\"])\n",
    "overall = overall[overall[\"price\"] < 11000] # Remove extremes for now (missed it earlier)\n",
    "# Remove experiments that have missing methods\n",
    "for defunct_exp in (0, 2, 8, 40, 44, 47, 59, 62,64,71, 80, 92,98):\n",
    "    overall = overall[overall[\"exp\"] != defunct_exp]\n",
    "for excluded_method in [x for x in all_methods if x not in included_methods]:\n",
    "    overall = overall[overall[\"method\"] != excluded_method]\n",
    "print(set(overall[\"method\"]))\n",
    "overall"
   ]
  },
  {
   "cell_type": "code",
   "execution_count": 5,
   "metadata": {},
   "outputs": [],
   "source": [
    "# TODO: Think about how to free up memory"
   ]
  },
  {
   "cell_type": "code",
   "execution_count": 6,
   "metadata": {},
   "outputs": [
    {
     "data": {
      "text/plain": [
       "set()"
      ]
     },
     "execution_count": 6,
     "metadata": {},
     "output_type": "execute_result"
    }
   ],
   "source": [
    "# For checking if all experiments in current set worked\n",
    "grouped = overall.groupby([\"id\",\"exp\"]).count()\n",
    "{x[1] for x in grouped[grouped[\"method\"] != len(included_methods)].index.values}"
   ]
  },
  {
   "cell_type": "code",
   "execution_count": 7,
   "metadata": {},
   "outputs": [],
   "source": [
    "# Some metrics\n",
    "def _r_sq(y_true, y_pred):\n",
    "    SST = sum((y_true-y_true.mean())**2)\n",
    "    SSR = sum((y_true-y_pred)**2)\n",
    "    return (1 - SSR/SST)\n",
    "\n",
    "def _mse(y_true, y_pred):\n",
    "    return sum((y_true - y_pred)**2)/len(y_pred)\n",
    "\n",
    "def _mae(y_true, y_pred):\n",
    "    return sum(abs(y_true - y_pred))/len(y_pred)"
   ]
  },
  {
   "cell_type": "markdown",
   "metadata": {},
   "source": [
    "## Get weights of accuracy from training data only"
   ]
  },
  {
   "cell_type": "code",
   "execution_count": 8,
   "metadata": {},
   "outputs": [],
   "source": [
    "train = overall[overall[\"test\"] == 0]\n",
    "test = overall[overall[\"test\"] == 1]"
   ]
  },
  {
   "cell_type": "code",
   "execution_count": 9,
   "metadata": {},
   "outputs": [
    {
     "data": {
      "text/plain": [
       "exp  method\n",
       "1    CNN       1936.132416\n",
       "     GLM       1097.559783\n",
       "     LM        1148.218321\n",
       "     NLP       1339.327943\n",
       "     NN        1002.413780\n",
       "                  ...     \n",
       "99   GLM       1085.003900\n",
       "     LM        1145.854885\n",
       "     NLP       1276.418102\n",
       "     NN         980.173961\n",
       "     RF         528.183742\n",
       "Length: 522, dtype: float64"
      ]
     },
     "execution_count": 9,
     "metadata": {},
     "output_type": "execute_result"
    }
   ],
   "source": [
    "# Aggregating id\n",
    "grouped = train.groupby([\"exp\",\"method\"])\n",
    "\n",
    "# These are metrics per experiment per method\n",
    "metrics = dict()\n",
    "metrics[\"mae\"] = grouped.apply(lambda x: _mae(x[\"price\"], x[\"prediction\"]) )\n",
    "metrics[\"mae\"]"
   ]
  },
  {
   "cell_type": "code",
   "execution_count": 10,
   "metadata": {},
   "outputs": [],
   "source": [
    "weights = dict()\n",
    "max_alpha = 10e3\n",
    "for metric in [\"mae\"]:\n",
    "    for alpha in np.linspace(500, max_alpha, 10):\n",
    "        tmp = metrics[metric].groupby(\"exp\").transform(lambda x: alpha/x)\n",
    "        # Softmax so weights sum to 1\n",
    "        if metric not in weights:\n",
    "            weights[metric] = dict()\n",
    "        weights[metric][round(alpha)] = tmp.groupby(\"exp\").transform(lambda x: np.exp(x)/sum(np.exp(x)))        "
   ]
  },
  {
   "cell_type": "code",
   "execution_count": 11,
   "metadata": {},
   "outputs": [
    {
     "data": {
      "text/plain": [
       "exp  method\n",
       "1    CNN       0.000002\n",
       "     GLM       0.000100\n",
       "     LM        0.000067\n",
       "     NLP       0.000019\n",
       "     NN        0.000237\n",
       "                 ...   \n",
       "99   GLM       0.000060\n",
       "     LM        0.000037\n",
       "     NLP       0.000015\n",
       "     NN        0.000162\n",
       "     RF        0.999725\n",
       "Length: 522, dtype: float64"
      ]
     },
     "execution_count": 11,
     "metadata": {},
     "output_type": "execute_result"
    }
   ],
   "source": [
    "weights[\"mae\"][max_alpha]"
   ]
  },
  {
   "cell_type": "code",
   "execution_count": 12,
   "metadata": {},
   "outputs": [
    {
     "name": "stdout",
     "output_type": "stream",
     "text": [
      "500 - True\n",
      "1556 - True\n",
      "2611 - True\n",
      "3667 - True\n",
      "4722 - True\n",
      "5778 - True\n",
      "6833 - True\n",
      "7889 - True\n",
      "8944 - True\n",
      "10000 - True\n"
     ]
    }
   ],
   "source": [
    "# Quickly check that all weighting schemes have weights that sum to 1\n",
    "for alpha in weights[\"mae\"]:\n",
    "    alpha_weights = weights[\"mae\"][alpha]\n",
    "    weight_sums = [sum(alpha_weights[exp]) for exp, _ in alpha_weights.index]\n",
    "    results_close_to_one = np.allclose(weight_sums, 1.)\n",
    "    print(f\"{alpha} - {results_close_to_one}\")"
   ]
  },
  {
   "cell_type": "markdown",
   "metadata": {},
   "source": [
    "## Ensembling"
   ]
  },
  {
   "cell_type": "markdown",
   "metadata": {},
   "source": [
    "### Choose which metric we inversely get weights against"
   ]
  },
  {
   "cell_type": "code",
   "execution_count": 13,
   "metadata": {},
   "outputs": [],
   "source": [
    "error_fn = _mae"
   ]
  },
  {
   "cell_type": "markdown",
   "metadata": {},
   "source": [
    "### Joining weights onto train data to choose best $\\alpha$"
   ]
  },
  {
   "cell_type": "code",
   "execution_count": 14,
   "metadata": {},
   "outputs": [],
   "source": [
    "eval_data = train\n",
    "w_weights = eval_data.copy()\n",
    "w_weights[\"weighted_prediction\"] = 0"
   ]
  },
  {
   "cell_type": "code",
   "execution_count": 15,
   "metadata": {
    "scrolled": true
   },
   "outputs": [
    {
     "name": "stderr",
     "output_type": "stream",
     "text": [
      "100%|██████████| 10/10 [01:03<00:00,  6.33s/it]\n"
     ]
    }
   ],
   "source": [
    "mae_weighted = list()\n",
    "for alpha, weights_per_exp in tqdm(weights[\"mae\"].items()):\n",
    "    # Join weights to correct experiment and method\n",
    "    w_weights = pd.merge(eval_data, pd.DataFrame({\"weight\":weights_per_exp}), \n",
    "                                 how=\"left\",\n",
    "                                 left_on=[\"exp\", \"method\"],\n",
    "                                right_on=[\"exp\", \"method\"])\n",
    "    # Get weighted prediction\n",
    "    w_weights[\"weighted_prediction\"] = w_weights[\"prediction\"]*w_weights[\"weight\"]\n",
    "    \n",
    "    # Ensemble\n",
    "    weighted_ensemble = w_weights.groupby([\"exp\",\"id\"]).agg({\n",
    "    'price' : 'mean',\n",
    "    'prediction' : 'mean', # Effectively a mean ensemble here\n",
    "    'weighted_prediction' : 'sum', # This is where we apply ensembling scheme, weighting will add to 1\n",
    "    'method' : 'count',\n",
    "    })\n",
    "    \n",
    "    # Get error of weighted predictions\n",
    "    res = weighted_ensemble.groupby(\"exp\").apply(lambda x: error_fn(x[\"price\"], x[\"weighted_prediction\"]))\n",
    "    mae_weighted.append((alpha, res))"
   ]
  },
  {
   "cell_type": "code",
   "execution_count": 16,
   "metadata": {},
   "outputs": [
    {
     "data": {
      "image/png": "[encoded data removed]",
      "text/plain": [
       "<Figure size 1400x1000 with 1 Axes>"
      ]
     },
     "metadata": {
      "needs_background": "light"
     },
     "output_type": "display_data"
    }
   ],
   "source": [
    "vals = [x[1].to_list() for x in mae_weighted]\n",
    "labels = [int(x[0]) for x in mae_weighted]\n",
    "labels = [round(x) for x in labels]\n",
    "plt.figure(figsize=(7,5), dpi=200)\n",
    "plt.boxplot(vals, labels=labels)\n",
    "pos = range(1,len(vals)+1)\n",
    "plt.xticks(pos, labels, rotation=90)\n",
    "plt.xlabel(r\"$\\alpha$\")\n",
    "plt.savefig(saving_prefix + \"_alpha_tuning_\" + \"_\".join(included_methods) + \".png\")"
   ]
  },
  {
   "cell_type": "code",
   "execution_count": 17,
   "metadata": {},
   "outputs": [
    {
     "name": "stdout",
     "output_type": "stream",
     "text": [
      "10000\n"
     ]
    }
   ],
   "source": [
    "best_alpha = min(list(zip([x[1].median() for x in mae_weighted],labels)))[1]\n",
    "print(best_alpha)\n",
    "# del mae_weighted"
   ]
  },
  {
   "cell_type": "markdown",
   "metadata": {},
   "source": [
    "### Choose which metric we evaluate results with"
   ]
  },
  {
   "cell_type": "code",
   "execution_count": 18,
   "metadata": {},
   "outputs": [],
   "source": [
    "error_fn = _mae"
   ]
  },
  {
   "cell_type": "markdown",
   "metadata": {},
   "source": [
    "### Evaluate chosen best ensemble as candidate for weighted ensembles"
   ]
  },
  {
   "cell_type": "code",
   "execution_count": 19,
   "metadata": {},
   "outputs": [],
   "source": [
    "eval_data = test\n",
    "\n",
    "# Join weights\n",
    "w_weights = pd.merge(eval_data, pd.DataFrame({\"weight\":weights[\"mae\"][best_alpha]}), \n",
    "                                 how=\"left\",\n",
    "                                 left_on=[\"exp\", \"method\"],\n",
    "                                right_on=[\"exp\", \"method\"])\n",
    "\n",
    "# Get weighted ensemble predictions\n",
    "w_weights[\"weighted_prediction\"] = w_weights[\"prediction\"]*w_weights[\"weight\"]\n",
    "weighted_ensemble = w_weights.groupby([\"exp\",\"id\"]).agg({\n",
    "'price' : 'mean',\n",
    "'prediction' : 'mean',\n",
    "'weighted_prediction' : 'sum', # This is where we apply ensembling scheme, weighting will add to 1\n",
    "'method' : 'count',\n",
    "})\n",
    "\n",
    "# Get mean ensemble predictions\n",
    "grouped = eval_data.groupby([\"id\", \"exp\"])\n",
    "mean_ensemble = grouped.agg({\n",
    "    'price' : 'mean',\n",
    "    'prediction' : 'mean', # This is where we apply ensembling scheme\n",
    "    'method' : 'count',\n",
    "})\n",
    "\n",
    "# Get error of weighted predictions\n",
    "weighted_res = weighted_ensemble.groupby(\"exp\").apply(lambda x: error_fn(x[\"price\"], x[\"weighted_prediction\"]))\n",
    "mean_res = mean_ensemble.groupby(\"exp\").apply(lambda x: error_fn(x[\"price\"], x[\"prediction\"]))\n",
    "iso_res = eval_data.groupby([\"exp\",\"method\"]).apply(lambda x: error_fn(x[\"price\"], x[\"prediction\"]) )"
   ]
  },
  {
   "cell_type": "code",
   "execution_count": 20,
   "metadata": {},
   "outputs": [],
   "source": [
    "bars = [\"Uniform ensemble\", \"Weighted ensemble\" ,*iso_res.mean(level=\"method\").keys()]\n",
    "pos = range(len(bars))\n",
    "height = [mean_res.mean(), weighted_res.mean(), *iso_res.mean(level=\"method\").to_list()]\n",
    "errs = [mean_res.std(), weighted_res.std(), *iso_res.std(level=\"method\").to_list()]"
   ]
  },
  {
   "cell_type": "code",
   "execution_count": 21,
   "metadata": {},
   "outputs": [
    {
     "name": "stdout",
     "output_type": "stream",
     "text": [
      "[('Uniform ensemble', 1091.0419367341988, 9.853848600578145), ('Weighted ensemble', 909.7444058735263, 6.627226387850363), ('CNN', 2244.5368692116845, 29.1248450645408), ('GLM', 1093.1861941233128, 8.009424280691695), ('LM', 1145.025036150979, 8.366589568255083), ('NLP', 1747.677895253757, 13.15292216482537), ('NN', 1002.9931315350337, 11.56399961835742), ('RF', 909.7766880464067, 6.626827845902051)]\n"
     ]
    },
    {
     "data": {
      "image/png": "[encoded data removed]",
      "text/plain": [
       "<Figure size 432x288 with 1 Axes>"
      ]
     },
     "metadata": {
      "needs_background": "light"
     },
     "output_type": "display_data"
    }
   ],
   "source": [
    "plt.bar(pos, height, yerr=errs)\n",
    "plt.xticks(pos, bars, rotation=90)\n",
    "res = list(zip(bars,height,errs))\n",
    "print(res)\n",
    "res_file = saving_prefix + \"_means_\" + \"_\".join(included_methods) + \".csv\"\n",
    "with open(res_file, \"w\") as f:\n",
    "    for model_res in res:\n",
    "        model_res = [str(x) for x in model_res]\n",
    "        f.write(\",\".join(model_res)+\"\\n\")"
   ]
  },
  {
   "cell_type": "code",
   "execution_count": 22,
   "metadata": {},
   "outputs": [
    {
     "data": {
      "text/plain": [
       "0.0035483622854439924"
      ]
     },
     "execution_count": 22,
     "metadata": {},
     "output_type": "execute_result"
    }
   ],
   "source": [
    "perc_improve = ((height[-1] - height[1])/height[-1])*100\n",
    "with open(res_file, \"a\") as f:\n",
    "    f.write(f\"% improved, {perc_improve}\\n\")\n",
    "perc_improve"
   ]
  },
  {
   "cell_type": "code",
   "execution_count": 23,
   "metadata": {},
   "outputs": [
    {
     "data": {
      "image/png": "[encoded data removed]",
      "text/plain": [
       "<Figure size 1400x1000 with 1 Axes>"
      ]
     },
     "metadata": {
      "needs_background": "light"
     },
     "output_type": "display_data"
    }
   ],
   "source": [
    "vals = [mean_res.to_list(), \n",
    "        weighted_res.to_list(), \n",
    "        *[iso_res.loc[:,method].to_list() for method in included_methods]]\n",
    "labels = [\"Uniform ensemble\", \"Weighted ensemble\", *included_methods]\n",
    "\n",
    "assert len(vals) == len(labels)\n",
    "\n",
    "plt.figure(figsize=(7,5), dpi=200)\n",
    "plt.boxplot(vals, labels=labels)\n",
    "plt.axvline(2.5)\n",
    "pos = range(1,len(vals)+1)\n",
    "plt.xticks(pos, labels, rotation=90)\n",
    "plt.savefig(saving_prefix + \"_ensemble_comparison_\" + \"_\".join(included_methods) + \".png\")"
   ]
  },
  {
   "cell_type": "code",
   "execution_count": null,
   "metadata": {},
   "outputs": [],
   "source": []
  }
 ],
 "metadata": {
  "kernelspec": {
   "display_name": "Python [conda env:tf2-w-text]",
   "language": "python",
   "name": "conda-env-tf2-w-text-py"
  },
  "language_info": {
   "codemirror_mode": {
    "name": "ipython",
    "version": 3
   },
   "file_extension": ".py",
   "mimetype": "text/x-python",
   "name": "python",
   "nbconvert_exporter": "python",
   "pygments_lexer": "ipython3",
   "version": "3.8.5"
  }
 },
 "nbformat": 4,
 "nbformat_minor": 5
}
