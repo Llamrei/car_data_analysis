{
 "cells": [
  {
   "cell_type": "code",
   "execution_count": 3,
   "id": "c8655465",
   "metadata": {},
   "outputs": [],
   "source": [
    "import datetime\n",
    "import sys\n",
    "from pathlib import Path\n",
    "\n",
    "import pandas as pd\n",
    "from sklearn.model_selection import train_test_split\n",
    "\n",
    "import tensorflow as tf\n",
    "from tensorflow import keras\n",
    "from tensorflow.keras.layers import Input, Dense"
   ]
  },
  {
   "cell_type": "code",
   "execution_count": 4,
   "id": "61691d75",
   "metadata": {},
   "outputs": [
    {
     "name": "stdout",
     "output_type": "stream",
     "text": [
      "2.3.2\n"
     ]
    }
   ],
   "source": [
    "# tf.config.threading.set_intra_op_parallelism_threads(\n",
    "#     7\n",
    "# )\n",
    "# tf.config.threading.set_inter_op_parallelism_threads(\n",
    "#     7\n",
    "# )\n",
    "\n",
    "print(tf.__version__)"
   ]
  },
  {
   "cell_type": "markdown",
   "id": "ded1f1e4",
   "metadata": {},
   "source": [
    "# Contents\n",
    "- [Load data](#Load-data)\n",
    "- [NLP model](#NLP-Model)\n",
    "- [Investigating saliency](#Investigating-saliency)"
   ]
  },
  {
   "cell_type": "markdown",
   "id": "28581ab4",
   "metadata": {},
   "source": [
    "# Load data"
   ]
  },
  {
   "cell_type": "code",
   "execution_count": 5,
   "id": "019e2dea",
   "metadata": {},
   "outputs": [
    {
     "name": "stdout",
     "output_type": "stream",
     "text": [
      "24381-10450\n"
     ]
    }
   ],
   "source": [
    "data_file = Path(\"/home/alexander/projects/car_data_analysis/final_project_data/deduped_data.csv\")\n",
    "\n",
    "data = pd.read_csv(data_file)\n",
    "data = data[[\"id\",\"desc\",\"price\"]]\n",
    "\n",
    "train, test = train_test_split(data, test_size=0.3)\n",
    "print(f\"{len(train)}-{len(test)}\")"
   ]
  },
  {
   "cell_type": "code",
   "execution_count": 6,
   "id": "1f872ca9",
   "metadata": {},
   "outputs": [
    {
     "name": "stderr",
     "output_type": "stream",
     "text": [
      "/home/alexander/projects/gta/venv/lib/python3.8/site-packages/pandas/core/indexing.py:1596: SettingWithCopyWarning: \n",
      "A value is trying to be set on a copy of a slice from a DataFrame.\n",
      "Try using .loc[row_indexer,col_indexer] = value instead\n",
      "\n",
      "See the caveats in the documentation: https://pandas.pydata.org/pandas-docs/stable/user_guide/indexing.html#returning-a-view-versus-a-copy\n",
      "  self.obj[key] = _infer_fill_value(value)\n",
      "/home/alexander/projects/gta/venv/lib/python3.8/site-packages/pandas/core/indexing.py:1765: SettingWithCopyWarning: \n",
      "A value is trying to be set on a copy of a slice from a DataFrame.\n",
      "Try using .loc[row_indexer,col_indexer] = value instead\n",
      "\n",
      "See the caveats in the documentation: https://pandas.pydata.org/pandas-docs/stable/user_guide/indexing.html#returning-a-view-versus-a-copy\n",
      "  isetter(loc, value)\n"
     ]
    }
   ],
   "source": [
    "train.loc[:,\"test\"] = 0\n",
    "test.loc[:,\"test\"] = 1"
   ]
  },
  {
   "cell_type": "code",
   "execution_count": 7,
   "id": "787d5503",
   "metadata": {},
   "outputs": [
    {
     "data": {
      "text/html": [
       "<div>\n",
       "<style scoped>\n",
       "    .dataframe tbody tr th:only-of-type {\n",
       "        vertical-align: middle;\n",
       "    }\n",
       "\n",
       "    .dataframe tbody tr th {\n",
       "        vertical-align: top;\n",
       "    }\n",
       "\n",
       "    .dataframe thead th {\n",
       "        text-align: right;\n",
       "    }\n",
       "</style>\n",
       "<table border=\"1\" class=\"dataframe\">\n",
       "  <thead>\n",
       "    <tr style=\"text-align: right;\">\n",
       "      <th></th>\n",
       "      <th>id</th>\n",
       "      <th>desc</th>\n",
       "      <th>price</th>\n",
       "      <th>test</th>\n",
       "    </tr>\n",
       "  </thead>\n",
       "  <tbody>\n",
       "    <tr>\n",
       "      <th>6399</th>\n",
       "      <td>33-99</td>\n",
       "      <td>LOW RATE FINANCE AVAILABLE, 0% DEPOSIT FINANCE...</td>\n",
       "      <td>6495</td>\n",
       "      <td>1</td>\n",
       "    </tr>\n",
       "    <tr>\n",
       "      <th>18712</th>\n",
       "      <td>84-234</td>\n",
       "      <td>Really nice example of a \"Black Edition\" 420d ...</td>\n",
       "      <td>9649</td>\n",
       "      <td>1</td>\n",
       "    </tr>\n",
       "    <tr>\n",
       "      <th>28408</th>\n",
       "      <td>136-31</td>\n",
       "      <td>TRADING STANDARD APPROVED DEALER, Over 100 car...</td>\n",
       "      <td>8599</td>\n",
       "      <td>1</td>\n",
       "    </tr>\n",
       "    <tr>\n",
       "      <th>23274</th>\n",
       "      <td>102-453</td>\n",
       "      <td>RECENT FULL SERVICE WITH TIMING BELT KIT &amp; WAT...</td>\n",
       "      <td>7995</td>\n",
       "      <td>1</td>\n",
       "    </tr>\n",
       "    <tr>\n",
       "      <th>29273</th>\n",
       "      <td>140-108</td>\n",
       "      <td>Fsh, exellent driver, all documents present, d...</td>\n",
       "      <td>1295</td>\n",
       "      <td>1</td>\n",
       "    </tr>\n",
       "  </tbody>\n",
       "</table>\n",
       "</div>"
      ],
      "text/plain": [
       "            id                                               desc  price  test\n",
       "6399     33-99  LOW RATE FINANCE AVAILABLE, 0% DEPOSIT FINANCE...   6495     1\n",
       "18712   84-234  Really nice example of a \"Black Edition\" 420d ...   9649     1\n",
       "28408   136-31  TRADING STANDARD APPROVED DEALER, Over 100 car...   8599     1\n",
       "23274  102-453  RECENT FULL SERVICE WITH TIMING BELT KIT & WAT...   7995     1\n",
       "29273  140-108  Fsh, exellent driver, all documents present, d...   1295     1"
      ]
     },
     "execution_count": 7,
     "metadata": {},
     "output_type": "execute_result"
    }
   ],
   "source": [
    "data = pd.concat((train, test))\n",
    "data.tail()"
   ]
  },
  {
   "cell_type": "code",
   "execution_count": 166,
   "id": "c26d3c9f",
   "metadata": {},
   "outputs": [
    {
     "name": "stdout",
     "output_type": "stream",
     "text": [
      "🚗🚙 Another Quality Vehicle Available From Qa Cars Ltd!🚗🚙 , 2009 Skoda Fabia Tdi 12M MOT+ 12M WARRANTY+12M BREAKDOWN - £1,295, ◼ 1.9, Diesel, Manual , ◼ 138932 Miles, All Vehicles Come With 12 Months MOT,  12 Months Warranty & 12 Months Breakdown Cover,  💰 LOW RATE FINANCE AVAILABLE,  🚗 ANY VEHICLE TAKEN IN PART EXCHANGE,  🚚 DELIVERY SERVICE AVAILABLE, 🎥 VIDEO VIEWINGS AVAILABLE,  💊 ALL VEHICLES ARE FULLY VALETED & SANITISED, 💬 Contact Us Today !!, ☎ 07759212301, 🌐 www.Qacars.co.uk, 🖥 Full Details, Specification & Photos Can Be Found At:www.Qacars.co.uk , Grey, 5+ owners, £1,295\n"
     ]
    },
    {
     "data": {
      "text/plain": [
       "<tf.Tensor: shape=(), dtype=string, numpy=b'\\xf0\\x9f\\x9a\\x97\\xf0\\x9f\\x9a\\x99 Another Quality Vehicle Available From Qa Cars Ltd!\\xf0\\x9f\\x9a\\x97\\xf0\\x9f\\x9a\\x99 , 2009 Skoda Fabia Tdi 12M MOT+ 12M WARRANTY+12M BREAKDOWN - \\xc2\\xa31,295, \\xe2\\x97\\xbc 1.9, Diesel, Manual , \\xe2\\x97\\xbc 138932 Miles, All Vehicles Come With 12 Months MOT,  12 Months Warranty & 12 Months Breakdown Cover,  \\xf0\\x9f\\x92\\xb0 LOW RATE FINANCE AVAILABLE,  \\xf0\\x9f\\x9a\\x97 ANY VEHICLE TAKEN IN PART EXCHANGE,  \\xf0\\x9f\\x9a\\x9a DELIVERY SERVICE AVAILABLE, \\xf0\\x9f\\x8e\\xa5 VIDEO VIEWINGS AVAILABLE,  \\xf0\\x9f\\x92\\x8a ALL VEHICLES ARE FULLY VALETED & SANITISED, \\xf0\\x9f\\x92\\xac Contact Us Today !!, \\xe2\\x98\\x8e 07759212301, \\xf0\\x9f\\x8c\\x90 www.Qacars.co.uk, \\xf0\\x9f\\x96\\xa5 Full Details, Specification & Photos Can Be Found At:www.Qacars.co.uk , Grey, 5+ owners, \\xc2\\xa31,295'>"
      ]
     },
     "execution_count": 166,
     "metadata": {},
     "output_type": "execute_result"
    }
   ],
   "source": [
    "m = max(data[\"desc\"])\n",
    "print(m)\n",
    "sample = tf.constant(max(data[\"desc\"]))\n",
    "sample"
   ]
  },
  {
   "cell_type": "markdown",
   "id": "c3df3c97",
   "metadata": {},
   "source": [
    "# NLP Model"
   ]
  },
  {
   "cell_type": "code",
   "execution_count": 183,
   "id": "cc47dc3f",
   "metadata": {},
   "outputs": [
    {
     "data": {
      "text/plain": [
       "<tf.Tensor: shape=(), dtype=string, numpy=b'\\xf0\\x9f\\x9a\\x97\\xf0\\x9f\\x9a\\x99 another quality vehicle available from qa cars ltd\\xf0\\x9f\\x9a\\x97\\xf0\\x9f\\x9a\\x99  2009 skoda fabia tdi 12m mot 12m warranty12m breakdown  1295 \\xe2\\x97\\xbc 19 diesel manual  \\xe2\\x97\\xbc 138932 miles all vehicles come with 12 months mot  12 months warranty  12 months breakdown cover  \\xf0\\x9f\\x92\\xb0 low rate finance available  \\xf0\\x9f\\x9a\\x97 any vehicle taken in part exchange  \\xf0\\x9f\\x9a\\x9a delivery service available \\xf0\\x9f\\x8e\\xa5 video viewings available  \\xf0\\x9f\\x92\\x8a all vehicles are fully valeted  sanitised \\xf0\\x9f\\x92\\xac contact us today  \\xe2\\x98\\x8e 07759212301 \\xf0\\x9f\\x8c\\x90 wwwqacarscouk \\xf0\\x9f\\x96\\xa5 full details specification  photos can be found atwwwqacarscouk  grey 5 owners '>"
      ]
     },
     "execution_count": 183,
     "metadata": {},
     "output_type": "execute_result"
    }
   ],
   "source": [
    "# Extra handling: emojis - markdown etc.\n",
    "\n",
    "def lower_strip_punc_and_no_nums(inputs):\n",
    "    lowercase_inputs = tf.strings.lower(inputs)\n",
    "    DEFAULT_STRIP_REGEX = r'[!\"#$£%&()\\+,-\\./:;<=>?@\\[\\\\\\]^_`{|}~\\']+'\n",
    "    inputs = tf.strings.regex_replace(lowercase_inputs, DEFAULT_STRIP_REGEX, \"\")\n",
    "    bold_regex = r'[\\*]+'\n",
    "    inputs = tf.strings.regex_replace(inputs, bold_regex, \" \")\n",
    "#     inputs = tf.strings.regex_replace(inputs, r\"[0-9]*\", \"\")\n",
    "    inputs = tf.strings.regex_replace(inputs, r\"[,|0-9]*$\", \"\")\n",
    "    return inputs\n",
    "\n",
    "lower_strip_punc_and_no_nums(sample)"
   ]
  },
  {
   "cell_type": "code",
   "execution_count": 184,
   "id": "10842c3f",
   "metadata": {},
   "outputs": [],
   "source": [
    "VOCAB_SIZE = 5000\n",
    "\n",
    "text_input = Input(shape=(), dtype=tf.string, name='text')\n",
    "encoder = tf.keras.layers.experimental.preprocessing.TextVectorization(output_mode='tf-idf', \n",
    "            standardize=lower_strip_punc_and_no_nums, \n",
    "            max_tokens=5000)\n",
    "encoder.adapt(train[\"desc\"].values)\n",
    "net = encoder(text_input)\n",
    "net = Dense(64, activation=\"relu\")(net)\n",
    "net = Dense(32, activation=\"relu\")(net)\n",
    "net = Dense(1, activation=\"relu\")(net)\n",
    "\n",
    "model = tf.keras.Model(text_input, net)"
   ]
  },
  {
   "cell_type": "code",
   "execution_count": 185,
   "id": "55341a20",
   "metadata": {},
   "outputs": [
    {
     "name": "stdout",
     "output_type": "stream",
     "text": [
      "Model: \"functional_17\"\n",
      "_________________________________________________________________\n",
      "Layer (type)                 Output Shape              Param #   \n",
      "=================================================================\n",
      "text (InputLayer)            [(None,)]                 0         \n",
      "_________________________________________________________________\n",
      "text_vectorization_6 (TextVe (None, 5000)              0         \n",
      "ctorization)                                                     \n",
      "_________________________________________________________________\n",
      "dense_12 (Dense)             (None, 64)                320064    \n",
      "_________________________________________________________________\n",
      "dense_13 (Dense)             (None, 32)                2080      \n",
      "_________________________________________________________________\n",
      "dense_14 (Dense)             (None, 1)                 33        \n",
      "=================================================================\n",
      "Total params: 327,177\n",
      "Trainable params: 322,177\n",
      "Non-trainable params: 5,000\n",
      "_________________________________________________________________\n"
     ]
    }
   ],
   "source": [
    "model.summary()\n"
   ]
  },
  {
   "cell_type": "code",
   "execution_count": 186,
   "id": "84618c17",
   "metadata": {},
   "outputs": [],
   "source": [
    "BATCH_SIZE = 64\n",
    "STEPS_PER_EPOCH = len(train) // BATCH_SIZE\n",
    "boundaries = [30*STEPS_PER_EPOCH, 50*STEPS_PER_EPOCH]\n",
    "values = [0.001, 1e-5, 1e-8]\n",
    "lr = keras.optimizers.schedules.PiecewiseConstantDecay(boundaries, values)\n",
    "\n",
    "loss = keras.losses.MeanSquaredError()\n",
    "optim = tf.keras.optimizers.RMSprop(learning_rate=lr)\n",
    "\n",
    "model.compile(loss=loss, optimizer=optim)\n",
    "\n",
    "early_stopping = tf.keras.callbacks.EarlyStopping(patience=10, verbose=1, restore_best_weights=True)"
   ]
  },
  {
   "cell_type": "code",
   "execution_count": 187,
   "id": "3ae3279e",
   "metadata": {},
   "outputs": [
    {
     "name": "stdout",
     "output_type": "stream",
     "text": [
      "Epoch 1/100\n",
      "381/381 [==============================] - 18s 48ms/step - loss: 25444996.0000 - val_loss: 16238399.0000\n",
      "Epoch 2/100\n",
      "381/381 [==============================] - 17s 44ms/step - loss: 13707459.0000 - val_loss: 11258168.0000\n",
      "Epoch 3/100\n",
      "381/381 [==============================] - 17s 44ms/step - loss: 9457258.0000 - val_loss: 8561622.0000\n",
      "Epoch 4/100\n",
      "381/381 [==============================] - 17s 44ms/step - loss: 7255330.5000 - val_loss: 7095678.5000\n",
      "Epoch 5/100\n",
      "381/381 [==============================] - 17s 44ms/step - loss: 5912070.5000 - val_loss: 6226949.5000\n",
      "Epoch 6/100\n",
      "381/381 [==============================] - 17s 44ms/step - loss: 5099227.0000 - val_loss: 5772105.0000\n",
      "Epoch 7/100\n",
      "381/381 [==============================] - 17s 45ms/step - loss: 4612621.5000 - val_loss: 5534150.0000\n",
      "Epoch 8/100\n",
      "381/381 [==============================] - 17s 44ms/step - loss: 4293700.5000 - val_loss: 5362701.0000\n",
      "Epoch 9/100\n",
      "381/381 [==============================] - 17s 45ms/step - loss: 4059271.2500 - val_loss: 5239867.0000\n",
      "Epoch 10/100\n",
      "381/381 [==============================] - 17s 44ms/step - loss: 3881424.5000 - val_loss: 5217492.5000\n",
      "Epoch 11/100\n",
      "381/381 [==============================] - 17s 44ms/step - loss: 3734263.0000 - val_loss: 5157257.5000\n",
      "Epoch 12/100\n",
      "381/381 [==============================] - 17s 45ms/step - loss: 3602253.2500 - val_loss: 5186353.0000\n",
      "Epoch 13/100\n",
      "381/381 [==============================] - 17s 45ms/step - loss: 3491534.5000 - val_loss: 5124071.0000\n",
      "Epoch 14/100\n",
      "381/381 [==============================] - 19s 51ms/step - loss: 3382032.0000 - val_loss: 5118160.0000\n",
      "Epoch 15/100\n",
      "381/381 [==============================] - 20s 52ms/step - loss: 3286425.2500 - val_loss: 5075364.0000\n",
      "Epoch 16/100\n",
      "381/381 [==============================] - 21s 55ms/step - loss: 3191951.0000 - val_loss: 5093348.5000\n",
      "Epoch 17/100\n",
      "381/381 [==============================] - 24s 64ms/step - loss: 3108413.0000 - val_loss: 5064859.5000\n",
      "Epoch 18/100\n",
      "381/381 [==============================] - 23s 61ms/step - loss: 3015252.0000 - val_loss: 5054938.5000\n",
      "Epoch 19/100\n",
      "381/381 [==============================] - 23s 61ms/step - loss: 2934977.0000 - val_loss: 5101469.5000\n",
      "Epoch 20/100\n",
      "381/381 [==============================] - 23s 61ms/step - loss: 2847358.0000 - val_loss: 5072193.0000\n",
      "Epoch 21/100\n",
      "381/381 [==============================] - 23s 61ms/step - loss: 2770283.2500 - val_loss: 5074661.5000\n",
      "Epoch 22/100\n",
      "381/381 [==============================] - 23s 61ms/step - loss: 2687668.5000 - val_loss: 5063088.5000\n",
      "Epoch 23/100\n",
      "381/381 [==============================] - 24s 62ms/step - loss: 2608764.0000 - val_loss: 5131035.5000\n",
      "Epoch 24/100\n",
      "381/381 [==============================] - 24s 62ms/step - loss: 2531573.0000 - val_loss: 5067402.0000\n",
      "Epoch 25/100\n",
      "381/381 [==============================] - 23s 61ms/step - loss: 2453766.0000 - val_loss: 5121801.5000\n",
      "Epoch 26/100\n",
      "381/381 [==============================] - 23s 61ms/step - loss: 2380584.2500 - val_loss: 5200221.0000\n",
      "Epoch 27/100\n",
      "381/381 [==============================] - 23s 61ms/step - loss: 2306112.2500 - val_loss: 5128868.0000\n",
      "Epoch 28/100\n",
      "381/381 [==============================] - ETA: 0s - loss: 2237726.7500Restoring model weights from the end of the best epoch.\n",
      "381/381 [==============================] - 24s 62ms/step - loss: 2237726.7500 - val_loss: 5125239.5000\n",
      "Epoch 00028: early stopping\n",
      "565.004065 seconds\n"
     ]
    }
   ],
   "source": [
    "start = datetime.datetime.now()\n",
    "history = model.fit(train[\"desc\"].values, \n",
    "                    train[\"price\"].values,\n",
    "                    epochs=100,\n",
    "                    batch_size=BATCH_SIZE,\n",
    "                    validation_data=(test[\"desc\"].values, test[\"price\"].values),\n",
    "                    callbacks=[early_stopping],\n",
    "                    verbose=1,\n",
    "                   )\n",
    "end = datetime.datetime.now()\n",
    "time_elapsed = (end - start).total_seconds()\n",
    "print(f\"{time_elapsed} seconds\")"
   ]
  },
  {
   "cell_type": "markdown",
   "id": "7a8e50a3",
   "metadata": {},
   "source": [
    "# Investigating saliency"
   ]
  },
  {
   "cell_type": "markdown",
   "id": "41b42840",
   "metadata": {},
   "source": [
    "## Retrieve some samples from data and encode"
   ]
  },
  {
   "cell_type": "code",
   "execution_count": 188,
   "id": "b63140d9",
   "metadata": {},
   "outputs": [
    {
     "name": "stdout",
     "output_type": "stream",
     "text": [
      "b'A solid mechanically sound car, that has been a pleasure to own. Selling due to buying a new car* 9 Service stamps - last service done in November 2020*New exhaust system replaced in November 2020*MOT valid till Dec 2021*Paintwork damage to right rear bumper (See pictures). Few chips in other areas but given its age in good condition*4 Pirelli tyres with good thread*Spare tyre with jack and bolt nut*3 previous owners*Drivers wing mirror replaced hence reason for different colour. Original wing mirror still available*CD player*Power Steering*Aircon*Isofix fittings on rear seats*Good Interior - few scuff marks and general wear and tear*Spare wheel with fixing nut and jack*Road tax 205 per year*159 g/km*1398cc* ULEZ CompliantViewings available after 5pm Monday to Friday and any time on Saturday and Sunday***No Time Wasters Please** **BACS PAYMENT ONLY** NO CASH, Smoke free, Pet free Blue, 4 owners, \\xc2\\xa31,350'\n",
      "----------------------------------------------------------------------------------------------------\n",
      "b\"The Vauxhall Zafira is one of the front runners for family MPV's. It's a smooth driver, but is also capable of being gutsy when needed. The interior is smart and well built, and the driving position offers great, open visibility all round. It has plenty of driving and safety features, has amazing safety reviews, and has low running costs. , At AvailableCar we are committed to deliver outstanding customer service. In line with Government guidelines, our Showrooms are currently open for Online & Telephone Sales, Click and Collect and Home Delivery. We\\xe2\\x80\\x99re here to help, so please phone or email to enquire. We are implementing strict rules on social distancing and rigorous sanitisation routines to remain COVID SECURE for the health, safety and peace of mind of our Staff and Customers. The unique AvailableCar Provenance guarantees our customers the highest level quality used cars, all prepared to main dealer standards. We have a clear and simple pricing policy with NO HIDDEN FEEs, the price advertised is the price you pay. The best possible value for money, The AvailableCar price promise means that if you find the same car of equal quality and value, cheaper at a main dealer or car supermarket within 7 days of vehicle order, we\\xe2\\x80\\x99ll refund the difference! We want to give you the top Fair Price for your Part exchange, and with competitive Low Rate Finance available, you can buy the car you want for a monthly price you are happy to pay. AvailableCar stock over 4000 cars that are all available online to view, enquire, and reserve. For more information on our current operating rules, please visit: https://www.availablecar.com/latest-news-1/you-can-still-safely-click-collect-and-buy-online-contact-us/ \\xc2\\xa3545 of extras Lace / Atlantis Jet Black, Carbon Flash metallic, Metallic Paint. Save \\xc2\\xa316981 on cost when new. Available with 7 Day Price Promise. Low Rate Finance Available. Top Fair Price Part Exchange. Test Drive Any Car You Like. Over 5000 Cars Available. 72 Zone Mechanical Checks. Ring & Reserve Up To 7.00pm , Excellent bodywork, Black Cloth interior - Excellent Condition, Tyre condition Excellent, Metallic Carbon Flash, 2 owners, \\xc2\\xa37,999\"\n"
     ]
    }
   ],
   "source": [
    "train_desc = tf.constant(data[data[\"test\"]==0].iloc[2][\"desc\"])\n",
    "train_desc_batched = tf.expand_dims(tf.constant(train_desc), axis=0)\n",
    "test_desc = tf.constant(data[data[\"test\"]==1].iloc[4][\"desc\"])\n",
    "test_desc_batched = tf.expand_dims(tf.constant(test_desc), axis=0)\n",
    "print(train_desc.numpy())\n",
    "print(\"-\"*100)\n",
    "print(test_desc.numpy())"
   ]
  },
  {
   "cell_type": "code",
   "execution_count": 189,
   "id": "0f1cfab7",
   "metadata": {},
   "outputs": [
    {
     "name": "stdout",
     "output_type": "stream",
     "text": [
      "tf.Tensor([[4.8250613 5.3297615 0.        ... 0.        0.        0.       ]], shape=(1, 5000), dtype=float32)\n",
      "tf.Tensor([[ 5.629238 11.547816 17.194803 ...  0.        0.        0.      ]], shape=(1, 5000), dtype=float32)\n"
     ]
    },
    {
     "data": {
      "text/plain": [
       "<tf.Tensor: shape=(), dtype=string, numpy=b'a solid mechanically sound car that has been a pleasure to own selling due to buying a new car  9 service stamps  last service done in november 2020 new exhaust system replaced in november 2020 mot valid till dec 2021 paintwork damage to right rear bumper see pictures few chips in other areas but given its age in good condition 4 pirelli tyres with good thread spare tyre with jack and bolt nut 3 previous owners drivers wing mirror replaced hence reason for different colour original wing mirror still available cd player power steering aircon isofix fittings on rear seats good interior  few scuff marks and general wear and tear spare wheel with fixing nut and jack road tax 205 per year 159 gkm 1398cc  ulez compliantviewings available after 5pm monday to friday and any time on saturday and sunday no time wasters please   bacs payment only  no cash smoke free pet free blue 4 owners '>"
      ]
     },
     "execution_count": 189,
     "metadata": {},
     "output_type": "execute_result"
    }
   ],
   "source": [
    "train_encoding = encoder(train_desc_batched)\n",
    "verify_encoding = encoder(train_desc)\n",
    "test_encoding = encoder(test_desc_batched)\n",
    "print(train_encoding)\n",
    "print(test_encoding)\n",
    "lower_strip_punc_and_no_nums(train_desc)"
   ]
  },
  {
   "cell_type": "markdown",
   "id": "e1cd514b",
   "metadata": {},
   "source": [
    "### Helper functions"
   ]
  },
  {
   "cell_type": "code",
   "execution_count": 190,
   "id": "5fa9be19",
   "metadata": {},
   "outputs": [],
   "source": [
    "vocab = encoder.get_vocabulary()\n",
    "import numpy as np\n",
    "import re\n",
    "\n",
    "def index_encoding(text, encoder):\n",
    "    \"\"\"\n",
    "    Returns an array with the encoding indexes of each of the words in the text provided.\n",
    "    \"\"\"\n",
    "    indices = []\n",
    "    if isinstance(text, bytes):\n",
    "        text = text.decode(\"UTF-8\")\n",
    "    text = re.sub(r'[!\"#$£%&()\\+,-\\./:;<=>?@\\[\\\\\\]^_`{|}~\\']*','', text)\n",
    "    text = re.sub(r'\\*',' ', text)\n",
    "    text = re.sub(r'[,|0-9]*$','', text)\n",
    "    for word in text.split(\" \"):\n",
    "        encoding = encoder(word)\n",
    "        if len(encoding) != 0:\n",
    "            encoding = encoder(word).numpy()\n",
    "            non_zero = np.nonzero(encoding)\n",
    "            if len(non_zero) == 2:\n",
    "                index = int(non_zero[1][0])\n",
    "            elif len(non_zero) == 1:\n",
    "                index = 0\n",
    "            else:\n",
    "                raise ValueError()\n",
    "        else:\n",
    "            print((word, encoding))\n",
    "            index = None\n",
    "        indices.append((word, index))        \n",
    "    return indices"
   ]
  },
  {
   "cell_type": "markdown",
   "id": "b0905ee3",
   "metadata": {},
   "source": [
    "## Retrieve trained Dense layers - as we want saliency on encoded words"
   ]
  },
  {
   "cell_type": "code",
   "execution_count": 191,
   "id": "42a0fa84",
   "metadata": {},
   "outputs": [
    {
     "name": "stdout",
     "output_type": "stream",
     "text": [
      "Model: \"functional_19\"\n",
      "_________________________________________________________________\n",
      "Layer (type)                 Output Shape              Param #   \n",
      "=================================================================\n",
      "input_5 (InputLayer)         [(None, 5000)]            0         \n",
      "_________________________________________________________________\n",
      "dense_12 (Dense)             (None, 64)                320064    \n",
      "_________________________________________________________________\n",
      "dense_13 (Dense)             (None, 32)                2080      \n",
      "_________________________________________________________________\n",
      "dense_14 (Dense)             (None, 1)                 33        \n",
      "=================================================================\n",
      "Total params: 322,177\n",
      "Trainable params: 322,177\n",
      "Non-trainable params: 0\n",
      "_________________________________________________________________\n"
     ]
    }
   ],
   "source": [
    "encoded_input = Input(shape=(5000,))\n",
    "net = encoded_input\n",
    "\n",
    "for layer in model.layers[-3:]:\n",
    "    net = layer(net)\n",
    "saliency_model = tf.keras.Model(encoded_input, net)\n",
    "saliency_model.summary()"
   ]
  },
  {
   "cell_type": "code",
   "execution_count": 192,
   "id": "acb10708",
   "metadata": {
    "scrolled": true
   },
   "outputs": [
    {
     "name": "stdout",
     "output_type": "stream",
     "text": [
      "tf.Tensor([[2054.1804]], shape=(1, 1), dtype=float32)\n",
      "tf.Tensor([[2054.1804]], shape=(1, 1), dtype=float32)\n"
     ]
    }
   ],
   "source": [
    "saliency_res = saliency_model(train_encoding)\n",
    "model_res = model(train_desc_batched)\n",
    "print(saliency_res)\n",
    "print(model_res)"
   ]
  },
  {
   "cell_type": "code",
   "execution_count": 193,
   "id": "770b2ae1",
   "metadata": {},
   "outputs": [
    {
     "name": "stdout",
     "output_type": "stream",
     "text": [
      "WARNING:tensorflow:The dtype of the watched tensor must be floating (e.g. tf.float32), got tf.string\n",
      "[ 21.960205   10.02275    -1.481833  ... -63.547768   37.503876\n",
      "   1.6277921]\n"
     ]
    }
   ],
   "source": [
    "with tf.GradientTape() as tape:\n",
    "    tape.watch(train_encoding)\n",
    "    tape.watch(train_desc_batched)\n",
    "    saliency_res = saliency_model(train_encoding)\n",
    "    model_res = model(train_desc_batched)\n",
    "\n",
    "encoded_saliency = tape.gradient(saliency_res, train_encoding).numpy()[0]\n",
    "print(encoded_saliency)\n",
    "# direct_saliency = tape.gradient(model_res, train_desc_batched)"
   ]
  },
  {
   "cell_type": "code",
   "execution_count": 194,
   "id": "feb6fbff",
   "metadata": {},
   "outputs": [
    {
     "data": {
      "text/plain": [
       "0.053083662"
      ]
     },
     "execution_count": 194,
     "metadata": {},
     "output_type": "execute_result"
    }
   ],
   "source": [
    "def map_to_unit(grads):\n",
    "    _max = grads.max()\n",
    "    _min = grads.min()\n",
    "#     return [(grad-_min)/(_max- _min) for grad in grads]\n",
    "    return [abs(grad)/abs(_max) for grad in grads]\n",
    "\n",
    "highlight_intensity = map_to_unit(encoded_saliency)\n",
    "highlight_intensity[0]"
   ]
  },
  {
   "cell_type": "code",
   "execution_count": 195,
   "id": "670d2c48",
   "metadata": {},
   "outputs": [
    {
     "name": "stdout",
     "output_type": "stream",
     "text": [
      "('', <tf.Tensor: shape=(0, 5000), dtype=float32, numpy=array([], shape=(0, 5000), dtype=float32)>)\n",
      "('9', <tf.Tensor: shape=(0, 5000), dtype=float32, numpy=array([], shape=(0, 5000), dtype=float32)>)\n",
      "('', <tf.Tensor: shape=(0, 5000), dtype=float32, numpy=array([], shape=(0, 5000), dtype=float32)>)\n",
      "('2020', <tf.Tensor: shape=(0, 5000), dtype=float32, numpy=array([], shape=(0, 5000), dtype=float32)>)\n",
      "('2020', <tf.Tensor: shape=(0, 5000), dtype=float32, numpy=array([], shape=(0, 5000), dtype=float32)>)\n",
      "('2021', <tf.Tensor: shape=(0, 5000), dtype=float32, numpy=array([], shape=(0, 5000), dtype=float32)>)\n",
      "('4', <tf.Tensor: shape=(0, 5000), dtype=float32, numpy=array([], shape=(0, 5000), dtype=float32)>)\n",
      "('3', <tf.Tensor: shape=(0, 5000), dtype=float32, numpy=array([], shape=(0, 5000), dtype=float32)>)\n",
      "('', <tf.Tensor: shape=(0, 5000), dtype=float32, numpy=array([], shape=(0, 5000), dtype=float32)>)\n",
      "('205', <tf.Tensor: shape=(0, 5000), dtype=float32, numpy=array([], shape=(0, 5000), dtype=float32)>)\n",
      "('159', <tf.Tensor: shape=(0, 5000), dtype=float32, numpy=array([], shape=(0, 5000), dtype=float32)>)\n",
      "('', <tf.Tensor: shape=(0, 5000), dtype=float32, numpy=array([], shape=(0, 5000), dtype=float32)>)\n",
      "('', <tf.Tensor: shape=(0, 5000), dtype=float32, numpy=array([], shape=(0, 5000), dtype=float32)>)\n",
      "('', <tf.Tensor: shape=(0, 5000), dtype=float32, numpy=array([], shape=(0, 5000), dtype=float32)>)\n",
      "('', <tf.Tensor: shape=(0, 5000), dtype=float32, numpy=array([], shape=(0, 5000), dtype=float32)>)\n",
      "('', <tf.Tensor: shape=(0, 5000), dtype=float32, numpy=array([], shape=(0, 5000), dtype=float32)>)\n",
      "('', <tf.Tensor: shape=(0, 5000), dtype=float32, numpy=array([], shape=(0, 5000), dtype=float32)>)\n",
      "('', <tf.Tensor: shape=(0, 5000), dtype=float32, numpy=array([], shape=(0, 5000), dtype=float32)>)\n",
      "('', <tf.Tensor: shape=(0, 5000), dtype=float32, numpy=array([], shape=(0, 5000), dtype=float32)>)\n",
      "('', <tf.Tensor: shape=(0, 5000), dtype=float32, numpy=array([], shape=(0, 5000), dtype=float32)>)\n",
      "('4', <tf.Tensor: shape=(0, 5000), dtype=float32, numpy=array([], shape=(0, 5000), dtype=float32)>)\n",
      "('', <tf.Tensor: shape=(0, 5000), dtype=float32, numpy=array([], shape=(0, 5000), dtype=float32)>)\n",
      "('', <tf.Tensor: shape=(0, 5000), dtype=float32, numpy=array([], shape=(0, 5000), dtype=float32)>)\n",
      "('', <tf.Tensor: shape=(0, 5000), dtype=float32, numpy=array([], shape=(0, 5000), dtype=float32)>)\n",
      "('', <tf.Tensor: shape=(0, 5000), dtype=float32, numpy=array([], shape=(0, 5000), dtype=float32)>)\n",
      "('', <tf.Tensor: shape=(0, 5000), dtype=float32, numpy=array([], shape=(0, 5000), dtype=float32)>)\n",
      "('', <tf.Tensor: shape=(0, 5000), dtype=float32, numpy=array([], shape=(0, 5000), dtype=float32)>)\n",
      "('', <tf.Tensor: shape=(0, 5000), dtype=float32, numpy=array([], shape=(0, 5000), dtype=float32)>)\n",
      "('', <tf.Tensor: shape=(0, 5000), dtype=float32, numpy=array([], shape=(0, 5000), dtype=float32)>)\n",
      "('', <tf.Tensor: shape=(0, 5000), dtype=float32, numpy=array([], shape=(0, 5000), dtype=float32)>)\n",
      "('', <tf.Tensor: shape=(0, 5000), dtype=float32, numpy=array([], shape=(0, 5000), dtype=float32)>)\n",
      "('', <tf.Tensor: shape=(0, 5000), dtype=float32, numpy=array([], shape=(0, 5000), dtype=float32)>)\n",
      "('', <tf.Tensor: shape=(0, 5000), dtype=float32, numpy=array([], shape=(0, 5000), dtype=float32)>)\n",
      "('', <tf.Tensor: shape=(0, 5000), dtype=float32, numpy=array([], shape=(0, 5000), dtype=float32)>)\n",
      "('', <tf.Tensor: shape=(0, 5000), dtype=float32, numpy=array([], shape=(0, 5000), dtype=float32)>)\n",
      "('', <tf.Tensor: shape=(0, 5000), dtype=float32, numpy=array([], shape=(0, 5000), dtype=float32)>)\n",
      "('', <tf.Tensor: shape=(0, 5000), dtype=float32, numpy=array([], shape=(0, 5000), dtype=float32)>)\n",
      "('', <tf.Tensor: shape=(0, 5000), dtype=float32, numpy=array([], shape=(0, 5000), dtype=float32)>)\n",
      "('', <tf.Tensor: shape=(0, 5000), dtype=float32, numpy=array([], shape=(0, 5000), dtype=float32)>)\n",
      "('', <tf.Tensor: shape=(0, 5000), dtype=float32, numpy=array([], shape=(0, 5000), dtype=float32)>)\n",
      "('', <tf.Tensor: shape=(0, 5000), dtype=float32, numpy=array([], shape=(0, 5000), dtype=float32)>)\n",
      "('', <tf.Tensor: shape=(0, 5000), dtype=float32, numpy=array([], shape=(0, 5000), dtype=float32)>)\n",
      "('', <tf.Tensor: shape=(0, 5000), dtype=float32, numpy=array([], shape=(0, 5000), dtype=float32)>)\n",
      "('', <tf.Tensor: shape=(0, 5000), dtype=float32, numpy=array([], shape=(0, 5000), dtype=float32)>)\n"
     ]
    },
    {
     "data": {
      "image/png": "[encoded data removed]",
      "text/plain": [
       "<Figure size 1440x1224 with 1 Axes>"
      ]
     },
     "metadata": {
      "needs_background": "light"
     },
     "output_type": "display_data"
    }
   ],
   "source": [
    "text, indices = list(zip(*index_encoding(train_desc.numpy(), encoder)))\n",
    "absent_highlight_intensity = 0.2\n",
    "alphas = [highlight_intensity[idx] if idx is not None else absent_highlight_intensity for idx in indices]\n",
    "\n",
    "# Could do this feeding in different samples and across words\n",
    "# \n",
    "\n",
    "def get_grad(word, grads, v=False):\n",
    "    a = index_encoding(word, encoder)\n",
    "    if v:\n",
    "        print(f\"encoding indices: {a}\")\n",
    "    if a[0][1] is not None:\n",
    "        # e.g. encoding exists\n",
    "        b = [x for x in a if x[0] == word]\n",
    "        if len(b) != 1:\n",
    "            # We should only have a one encoding of a single word\n",
    "            raise ValueError(b)\n",
    "        b = b[0]\n",
    "        return grads[b[1]]\n",
    "    else:\n",
    "        return \"No encoding\"\n",
    "\n",
    "import matplotlib.pyplot as plt\n",
    "from matplotlib.patches import Rectangle\n",
    "from matplotlib.collections import PatchCollection\n",
    "from typing import Iterable\n",
    "\n",
    "def text_saliency(text: Iterable, alphas: Iterable, height=None, width=20, word_width=2):\n",
    "    if height is None:\n",
    "        height = len(text)//(width//word_width) + 1\n",
    "    \n",
    "    def highlight(x, y, intensity=0.2, word_width=word_width, col=\"g\"):\n",
    "        pc = [Rectangle((x-0.5, y-0.5), word_width, 1)]\n",
    "        pc = PatchCollection(pc, facecolor=col, alpha=intensity,\n",
    "                             edgecolor=\"black\")\n",
    "        plt.gca().add_collection(pc)\n",
    "    \n",
    "    plt.figure(figsize=(width,height))\n",
    "    plt.axis(\"off\")\n",
    "    plt.axis([0, width, 0, height])\n",
    "    loc = [0.5, height-0.5]\n",
    "    for word, alpha in zip(text, alphas):\n",
    "        grad = get_grad(word, encoded_saliency)\n",
    "        if isinstance(grad, str):\n",
    "            col = \"b\"\n",
    "        elif grad >= 0:\n",
    "            col = \"g\"\n",
    "        else:\n",
    "            col = \"r\"\n",
    "        highlight(*loc, intensity=alpha, col=col)\n",
    "        loc = list(plt.text(*loc, word).get_position())\n",
    "        loc[0] += word_width\n",
    "        if loc[0] > width:\n",
    "            loc[0] = 0.5\n",
    "            loc[1] -=1\n",
    "\n",
    "text_saliency(text, alphas)"
   ]
  },
  {
   "cell_type": "code",
   "execution_count": 200,
   "id": "8d337b1d",
   "metadata": {},
   "outputs": [
    {
     "name": "stdout",
     "output_type": "stream",
     "text": [
      "encoding indices: [('Red', 143)]\n",
      "115.41999\n",
      "encoding indices: [('Blue', 83)]\n",
      "119.276886\n",
      "encoding indices: [('Black', 25)]\n",
      "222.02962\n",
      "encoding indices: [('White', 112)]\n",
      "176.50497\n"
     ]
    }
   ],
   "source": [
    "for word in [\"Red\", \"Blue\", \"Black\", \"White\"]:\n",
    "    print(get_grad(word, encoded_saliency, v=True))"
   ]
  },
  {
   "cell_type": "code",
   "execution_count": 218,
   "id": "e3e83407",
   "metadata": {},
   "outputs": [
    {
     "data": {
      "text/plain": [
       "<tf.Tensor: shape=(1, 1), dtype=float32, numpy=array([[112013.6]], dtype=float32)>"
      ]
     },
     "execution_count": 218,
     "metadata": {},
     "output_type": "execute_result"
    },
    {
     "data": {
      "image/png": "[encoded data removed]",
      "text/plain": [
       "<Figure size 432x288 with 1 Axes>"
      ]
     },
     "metadata": {
      "needs_background": "light"
     },
     "output_type": "display_data"
    }
   ],
   "source": [
    "scale = 100\n",
    "word_scaling = [tf.squeeze(model(tf.constant(\"owners \"*x)[tf.newaxis,...])) for x in range(scale)]\n",
    "plt.plot(range(scale), word_scaling)\n",
    "\n",
    "model(tf.constant(\"owners \"*100)[tf.newaxis,...])"
   ]
  },
  {
   "cell_type": "code",
   "execution_count": null,
   "id": "caf1ebaa",
   "metadata": {},
   "outputs": [],
   "source": []
  }
 ],
 "metadata": {
  "kernelspec": {
   "display_name": "venv",
   "language": "python",
   "name": "venv"
  },
  "language_info": {
   "codemirror_mode": {
    "name": "ipython",
    "version": 3
   },
   "file_extension": ".py",
   "mimetype": "text/x-python",
   "name": "python",
   "nbconvert_exporter": "python",
   "pygments_lexer": "ipython3",
   "version": "3.8.5"
  }
 },
 "nbformat": 4,
 "nbformat_minor": 5
}
