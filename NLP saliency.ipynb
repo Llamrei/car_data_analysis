{
 "cells": [
  {
   "cell_type": "code",
   "execution_count": 1,
   "id": "c8655465",
   "metadata": {},
   "outputs": [],
   "source": [
    "import datetime\n",
    "import sys\n",
    "from pathlib import Path\n",
    "\n",
    "import pandas as pd\n",
    "from sklearn.model_selection import train_test_split\n",
    "\n",
    "import tensorflow as tf\n",
    "from tensorflow import keras\n",
    "from tensorflow.keras.layers import Input, Dense"
   ]
  },
  {
   "cell_type": "code",
   "execution_count": 2,
   "id": "61691d75",
   "metadata": {},
   "outputs": [
    {
     "name": "stdout",
     "output_type": "stream",
     "text": [
      "2.3.2\n"
     ]
    }
   ],
   "source": [
    "# tf.config.threading.set_intra_op_parallelism_threads(\n",
    "#     7\n",
    "# )\n",
    "# tf.config.threading.set_inter_op_parallelism_threads(\n",
    "#     7\n",
    "# )\n",
    "\n",
    "print(tf.__version__)"
   ]
  },
  {
   "cell_type": "markdown",
   "id": "ded1f1e4",
   "metadata": {},
   "source": [
    "# Contents\n",
    "- [Load data](#Load-data)\n",
    "- [NLP model](#NLP-Model)\n",
    "- [Investigating saliency](#Investigating-saliency)"
   ]
  },
  {
   "cell_type": "markdown",
   "id": "28581ab4",
   "metadata": {},
   "source": [
    "# Load data"
   ]
  },
  {
   "cell_type": "code",
   "execution_count": 3,
   "id": "787d5503",
   "metadata": {},
   "outputs": [
    {
     "name": "stderr",
     "output_type": "stream",
     "text": [
      "<ipython-input-3-1b82fc2987f8>:8: SettingWithCopyWarning: \n",
      "A value is trying to be set on a copy of a slice from a DataFrame.\n",
      "Try using .loc[row_indexer,col_indexer] = value instead\n",
      "\n",
      "See the caveats in the documentation: https://pandas.pydata.org/pandas-docs/stable/user_guide/indexing.html#returning-a-view-versus-a-copy\n",
      "  train[\"test\"] = 0\n",
      "<ipython-input-3-1b82fc2987f8>:9: SettingWithCopyWarning: \n",
      "A value is trying to be set on a copy of a slice from a DataFrame.\n",
      "Try using .loc[row_indexer,col_indexer] = value instead\n",
      "\n",
      "See the caveats in the documentation: https://pandas.pydata.org/pandas-docs/stable/user_guide/indexing.html#returning-a-view-versus-a-copy\n",
      "  test[\"test\"] = 1\n"
     ]
    },
    {
     "data": {
      "text/html": [
       "<div>\n",
       "<style scoped>\n",
       "    .dataframe tbody tr th:only-of-type {\n",
       "        vertical-align: middle;\n",
       "    }\n",
       "\n",
       "    .dataframe tbody tr th {\n",
       "        vertical-align: top;\n",
       "    }\n",
       "\n",
       "    .dataframe thead th {\n",
       "        text-align: right;\n",
       "    }\n",
       "</style>\n",
       "<table border=\"1\" class=\"dataframe\">\n",
       "  <thead>\n",
       "    <tr style=\"text-align: right;\">\n",
       "      <th></th>\n",
       "      <th>id</th>\n",
       "      <th>desc</th>\n",
       "      <th>price</th>\n",
       "      <th>test</th>\n",
       "    </tr>\n",
       "  </thead>\n",
       "  <tbody>\n",
       "    <tr>\n",
       "      <th>33256</th>\n",
       "      <td>155-57</td>\n",
       "      <td>Grey, 3 owners, £7,300</td>\n",
       "      <td>7300</td>\n",
       "      <td>0</td>\n",
       "    </tr>\n",
       "    <tr>\n",
       "      <th>8996</th>\n",
       "      <td>46-337</td>\n",
       "      <td>WE ARE A LOCAL FAMILY RUN BUSINESS FOR OVER 38...</td>\n",
       "      <td>2799</td>\n",
       "      <td>0</td>\n",
       "    </tr>\n",
       "    <tr>\n",
       "      <th>28827</th>\n",
       "      <td>137-397</td>\n",
       "      <td>One owner from new, Full Kia service history, ...</td>\n",
       "      <td>9990</td>\n",
       "      <td>0</td>\n",
       "    </tr>\n",
       "    <tr>\n",
       "      <th>7442</th>\n",
       "      <td>37-140</td>\n",
       "      <td>Black, 2 owners, £8,350</td>\n",
       "      <td>8350</td>\n",
       "      <td>0</td>\n",
       "    </tr>\n",
       "    <tr>\n",
       "      <th>21091</th>\n",
       "      <td>94-185</td>\n",
       "      <td>Just arrived into stock with a MOT until March...</td>\n",
       "      <td>3500</td>\n",
       "      <td>0</td>\n",
       "    </tr>\n",
       "  </tbody>\n",
       "</table>\n",
       "</div>"
      ],
      "text/plain": [
       "            id                                               desc  price  test\n",
       "33256   155-57                             Grey, 3 owners, £7,300   7300     0\n",
       "8996    46-337  WE ARE A LOCAL FAMILY RUN BUSINESS FOR OVER 38...   2799     0\n",
       "28827  137-397  One owner from new, Full Kia service history, ...   9990     0\n",
       "7442    37-140                            Black, 2 owners, £8,350   8350     0\n",
       "21091   94-185  Just arrived into stock with a MOT until March...   3500     0"
      ]
     },
     "execution_count": 3,
     "metadata": {},
     "output_type": "execute_result"
    }
   ],
   "source": [
    "data_file = Path(\"/home/alexander/projects/car_data_analysis/final_project_data/deduped_data.csv\")\n",
    "\n",
    "data = pd.read_csv(data_file)\n",
    "data = data[[\"id\",\"desc\",\"price\"]]\n",
    "\n",
    "train, test = train_test_split(data, test_size=0.3)\n",
    "\n",
    "train[\"test\"] = 0\n",
    "test[\"test\"] = 1\n",
    "\n",
    "data = pd.concat((train, test))\n",
    "data.head()"
   ]
  },
  {
   "cell_type": "markdown",
   "id": "c3df3c97",
   "metadata": {},
   "source": [
    "# NLP Model"
   ]
  },
  {
   "cell_type": "code",
   "execution_count": 146,
   "id": "10842c3f",
   "metadata": {},
   "outputs": [],
   "source": [
    "def lower_strip_punc_and_no_nums(inputs):\n",
    "    lowercase_inputs = tf.strings.lower(inputs)\n",
    "    DEFAULT_STRIP_REGEX = r'[!\"#$£%&()\\*\\+,-\\./:;<=>?@\\[\\\\\\]^_`{|}~\\']'\n",
    "    inputs = tf.strings.regex_replace(lowercase_inputs, DEFAULT_STRIP_REGEX, \"\")\n",
    "    inputs = tf.strings.regex_replace(inputs, r\"[0-9]*\", \"\")\n",
    "    return inputs\n",
    "\n",
    "VOCAB_SIZE = 5000\n",
    "\n",
    "text_input = Input(shape=(), dtype=tf.string, name='text')\n",
    "encoder = tf.keras.layers.experimental.preprocessing.TextVectorization(output_mode='tf-idf', max_tokens=VOCAB_SIZE, standardize=lower_strip_punc_and_no_nums)\n",
    "encoder.adapt(train[\"desc\"].values)\n",
    "net = encoder(text_input)\n",
    "net = Dense(64, activation=\"relu\")(net)\n",
    "net = Dense(32, activation=\"relu\")(net)\n",
    "net = Dense(1, activation=\"relu\")(net)\n",
    "\n",
    "model = tf.keras.Model(text_input, net)"
   ]
  },
  {
   "cell_type": "code",
   "execution_count": 147,
   "id": "55341a20",
   "metadata": {},
   "outputs": [
    {
     "name": "stdout",
     "output_type": "stream",
     "text": [
      "Model: \"functional_47\"\n",
      "_________________________________________________________________\n",
      "Layer (type)                 Output Shape              Param #   \n",
      "=================================================================\n",
      "text (InputLayer)            [(None,)]                 0         \n",
      "_________________________________________________________________\n",
      "text_vectorization_4 (TextVe (None, 5000)              0         \n",
      "ctorization)                                                     \n",
      "_________________________________________________________________\n",
      "dense_12 (Dense)             (None, 64)                320064    \n",
      "_________________________________________________________________\n",
      "dense_13 (Dense)             (None, 32)                2080      \n",
      "_________________________________________________________________\n",
      "dense_14 (Dense)             (None, 1)                 33        \n",
      "=================================================================\n",
      "Total params: 327,177\n",
      "Trainable params: 322,177\n",
      "Non-trainable params: 5,000\n",
      "_________________________________________________________________\n"
     ]
    }
   ],
   "source": [
    "model.summary()\n"
   ]
  },
  {
   "cell_type": "code",
   "execution_count": 148,
   "id": "84618c17",
   "metadata": {},
   "outputs": [],
   "source": [
    "BATCH_SIZE = 64\n",
    "STEPS_PER_EPOCH = len(train) // BATCH_SIZE\n",
    "boundaries = [30*STEPS_PER_EPOCH, 50*STEPS_PER_EPOCH]\n",
    "values = [0.001, 1e-5, 1e-8]\n",
    "lr = keras.optimizers.schedules.PiecewiseConstantDecay(boundaries, values)\n",
    "\n",
    "loss = keras.losses.MeanSquaredError()\n",
    "optim = tf.keras.optimizers.RMSprop(learning_rate=lr)\n",
    "\n",
    "model.compile(loss=loss, optimizer=optim)\n",
    "\n",
    "early_stopping = tf.keras.callbacks.EarlyStopping(patience=10, verbose=1, restore_best_weights=True)"
   ]
  },
  {
   "cell_type": "code",
   "execution_count": 149,
   "id": "3ae3279e",
   "metadata": {},
   "outputs": [
    {
     "name": "stdout",
     "output_type": "stream",
     "text": [
      "Epoch 1/100\n",
      "381/381 [==============================] - 23s 61ms/step - loss: 25127120.0000 - val_loss: 16814172.0000\n",
      "Epoch 2/100\n",
      "381/381 [==============================] - 23s 61ms/step - loss: 14172667.0000 - val_loss: 12081337.0000\n",
      "Epoch 3/100\n",
      "381/381 [==============================] - 23s 61ms/step - loss: 10283489.0000 - val_loss: 9505481.0000\n",
      "Epoch 4/100\n",
      "381/381 [==============================] - 23s 62ms/step - loss: 8161285.0000 - val_loss: 7978200.0000\n",
      "Epoch 5/100\n",
      "381/381 [==============================] - 23s 62ms/step - loss: 6706377.0000 - val_loss: 6899317.5000\n",
      "Epoch 6/100\n",
      "381/381 [==============================] - 23s 61ms/step - loss: 5723195.0000 - val_loss: 6265455.0000\n",
      "Epoch 7/100\n",
      "381/381 [==============================] - 23s 61ms/step - loss: 5091779.0000 - val_loss: 5904862.5000\n",
      "Epoch 8/100\n",
      "381/381 [==============================] - 23s 61ms/step - loss: 4693066.5000 - val_loss: 5703267.5000\n",
      "Epoch 9/100\n",
      "381/381 [==============================] - 23s 62ms/step - loss: 4416327.0000 - val_loss: 5610671.5000\n",
      "Epoch 10/100\n",
      "381/381 [==============================] - 23s 61ms/step - loss: 4216484.0000 - val_loss: 5517962.5000\n",
      "Epoch 11/100\n",
      "381/381 [==============================] - 23s 61ms/step - loss: 4056996.2500 - val_loss: 5426275.5000\n",
      "Epoch 12/100\n",
      "381/381 [==============================] - 23s 61ms/step - loss: 3931317.2500 - val_loss: 5409400.5000\n",
      "Epoch 13/100\n",
      "381/381 [==============================] - 24s 62ms/step - loss: 3821170.2500 - val_loss: 5421637.0000\n",
      "Epoch 14/100\n",
      "381/381 [==============================] - 23s 59ms/step - loss: 3717022.0000 - val_loss: 5401235.5000\n",
      "Epoch 15/100\n",
      "381/381 [==============================] - 22s 58ms/step - loss: 3631738.5000 - val_loss: 5413666.0000\n",
      "Epoch 16/100\n",
      "381/381 [==============================] - 22s 57ms/step - loss: 3548051.5000 - val_loss: 5374720.0000\n",
      "Epoch 17/100\n",
      "381/381 [==============================] - 22s 57ms/step - loss: 3475998.0000 - val_loss: 5330788.0000\n",
      "Epoch 18/100\n",
      "381/381 [==============================] - 22s 57ms/step - loss: 3404683.7500 - val_loss: 5330992.5000\n",
      "Epoch 19/100\n",
      "381/381 [==============================] - 22s 57ms/step - loss: 3336267.5000 - val_loss: 5394596.0000\n",
      "Epoch 20/100\n",
      "381/381 [==============================] - 22s 58ms/step - loss: 3274590.5000 - val_loss: 5328996.5000\n",
      "Epoch 21/100\n",
      "381/381 [==============================] - 22s 57ms/step - loss: 3214976.0000 - val_loss: 5325173.0000\n",
      "Epoch 22/100\n",
      "381/381 [==============================] - 22s 57ms/step - loss: 3157221.7500 - val_loss: 5350008.0000\n",
      "Epoch 23/100\n",
      "381/381 [==============================] - 24s 63ms/step - loss: 3104145.5000 - val_loss: 5388474.5000\n",
      "Epoch 24/100\n",
      "381/381 [==============================] - 25s 64ms/step - loss: 3054099.7500 - val_loss: 5377456.5000\n",
      "Epoch 25/100\n",
      "381/381 [==============================] - 24s 62ms/step - loss: 3005977.7500 - val_loss: 5425644.5000\n",
      "Epoch 26/100\n",
      "381/381 [==============================] - 23s 60ms/step - loss: 2953378.7500 - val_loss: 5394175.0000\n",
      "Epoch 27/100\n",
      "381/381 [==============================] - 23s 61ms/step - loss: 2906760.0000 - val_loss: 5409548.0000\n",
      "Epoch 28/100\n",
      "381/381 [==============================] - 22s 59ms/step - loss: 2865724.0000 - val_loss: 5418509.5000\n",
      "Epoch 29/100\n",
      "381/381 [==============================] - 23s 60ms/step - loss: 2816274.0000 - val_loss: 5393598.5000\n",
      "Epoch 30/100\n",
      "381/381 [==============================] - 23s 61ms/step - loss: 2770196.7500 - val_loss: 5432306.0000\n",
      "Epoch 31/100\n",
      "380/381 [============================>.] - ETA: 0s - loss: 2624832.0000Restoring model weights from the end of the best epoch.\n",
      "381/381 [==============================] - 23s 60ms/step - loss: 2626182.2500 - val_loss: 5441220.5000\n",
      "Epoch 00031: early stopping\n"
     ]
    },
    {
     "data": {
      "text/plain": [
       "713.474994"
      ]
     },
     "execution_count": 149,
     "metadata": {},
     "output_type": "execute_result"
    }
   ],
   "source": [
    "start = datetime.datetime.now()\n",
    "history = model.fit(train[\"desc\"].values, \n",
    "                    train[\"price\"].values,\n",
    "                    epochs=100,\n",
    "                    batch_size=BATCH_SIZE,\n",
    "                    validation_data=(test[\"desc\"].values, test[\"price\"].values),\n",
    "                    callbacks=[early_stopping],\n",
    "                    verbose=1,\n",
    "                   )\n",
    "end = datetime.datetime.now()\n",
    "time_elapsed = (end - start).total_seconds()\n",
    "time_elapsed"
   ]
  },
  {
   "cell_type": "markdown",
   "id": "7a8e50a3",
   "metadata": {},
   "source": [
    "# Investigating saliency"
   ]
  },
  {
   "cell_type": "markdown",
   "id": "41b42840",
   "metadata": {},
   "source": [
    "## Retrieve some samples from data and encode"
   ]
  },
  {
   "cell_type": "code",
   "execution_count": 150,
   "id": "b63140d9",
   "metadata": {},
   "outputs": [
    {
     "name": "stdout",
     "output_type": "stream",
     "text": [
      "b'One owner from new, Full Kia service history, Balance of Kia warranty till August 2024, Guaranteed Mileage, All vehicles HPi checked, Always low prices. Southwick Car Centre is located in the village of Southwick near Trowbridge in Wiltshire on the A361 within 20 minutes of Westbury, Warminster, Frome, Bath, Melksham, Chippenham and 40 minutes from Bristol, Swindon, Salisbury and the M4 (post code for sat nav BA149QN). We stock up to 100 quality one owner vehicles with full manufacturer service history. Established in 1996 we have over 23 years experience in used vehicle sales. We open Monday - Friday 09.00-17.00 and Sat 09.00-15.00. All major credit and debit cards accepted, Competitive finance packages available please click through to our website for further details and to use our online finance calculator. Cars price matched daily to guarantee we always offer an exceptionally competitive price. , For more information about one of our vehicles, to book a viewing, test drive or to reserve a vehicle please call our sales centre on 01225 777950. , Southwick Car Centre offering an honest, friendly service and a large selection of one owner cars with full service history & guaranteed mileage at a fantastic price, allowing you to buy with confidence. , Full dealership history, Metallic Black, 1 owner, \\xc2\\xa39,990 p/x welcome'\n",
      "----------------------------------------------------------------------------------------------------\n",
      "b'MTG Motors are pleased to offer this Vauxhall insignia 2.0 CDTi ecoFLEX SRI Sport Tourer finished in Flame Red with contrasting charcoal cloth interior, this vehicle comes with a factory specification to include, Premium Hi-Fi with DAB radio and bluetooth telephone prep, multi function leather steering wheel, cruise control, speed limiter.  Current Guideline Compliant/ HPI Clear Cars/ PX Welcome/ Finance Offered (FCA accredited)/ Extended Warranties Offered/ Nationwide Delivery Available/ MOT & Servicing/ Dream Car Sourcing/ \\xc2\\xa3149 admin charge for Outside Finance. For more info please visit our website www.mtgmotors.co.uk or give us a call on 01235 352311. , 3 months warranty, Full service history, Excellent bodywork, Interior - Excellent Condition, Tyre condition Excellent, Red, 1 owner, Errors may occur with the accuracy of our adverts please do check with a salesman before purchase, \\xc2\\xa38,295'\n"
     ]
    }
   ],
   "source": [
    "train_desc = tf.constant(data[data[\"test\"]==0].iloc[2][\"desc\"])\n",
    "train_desc_batched = tf.expand_dims(tf.constant(train_desc), axis=0)\n",
    "test_desc = tf.constant(data[data[\"test\"]==1].iloc[4][\"desc\"])\n",
    "test_desc_batched = tf.expand_dims(tf.constant(test_desc), axis=0)\n",
    "print(train_desc.numpy())\n",
    "print(\"-\"*100)\n",
    "print(test_desc.numpy())"
   ]
  },
  {
   "cell_type": "code",
   "execution_count": 151,
   "id": "0f1cfab7",
   "metadata": {},
   "outputs": [
    {
     "name": "stdout",
     "output_type": "stream",
     "text": [
      "tf.Tensor([[6.498942  5.3134384 7.151007  ... 0.        0.        0.       ]], shape=(1, 5000), dtype=float32)\n",
      "tf.Tensor([[2.7852607 0.8855731 2.043145  ... 0.        0.        0.       ]], shape=(1, 5000), dtype=float32)\n"
     ]
    }
   ],
   "source": [
    "train_encoding = encoder(train_desc_batched)\n",
    "verify_encoding = encoder(train_desc)\n",
    "test_encoding = encoder(test_desc_batched)\n",
    "print(train_encoding)\n",
    "print(test_encoding)"
   ]
  },
  {
   "cell_type": "markdown",
   "id": "e1cd514b",
   "metadata": {},
   "source": [
    "### Verify encoder works"
   ]
  },
  {
   "cell_type": "code",
   "execution_count": 185,
   "id": "5fa9be19",
   "metadata": {},
   "outputs": [
    {
     "name": "stdout",
     "output_type": "stream",
     "text": [
      "one owner from new full kia service history balance of kia warranty till august guaranteed mileage all vehicles hpi checked always low prices southwick car centre is located in the village of southwick near [UNK] in wiltshire on the a within minutes of [UNK] [UNK] [UNK] bath [UNK] [UNK] and minutes from bristol swindon salisbury and the m post code for sat nav [UNK] we stock up to quality one owner vehicles with full manufacturer service history established in we have over years experience in used vehicle sales we open monday friday and sat all major credit and debit cards accepted competitive finance packages available please click through to our website for further details and to use our online finance calculator cars price matched daily to guarantee we always offer an exceptionally competitive price for more information about one of our vehicles to book a viewing test drive or to reserve a vehicle please call our sales centre on southwick car centre offering an honest friendly service and a large selection of one owner cars with full service history guaranteed mileage at a fantastic price allowing you to buy with confidence full dealership history metallic black owner px welcome (array([0]), array([116]))\n",
      "(array([0]), array([38]))\n",
      "(array([0]), array([34]))\n",
      "(array([0]), array([27]))\n",
      "(array([0]), array([12]))\n",
      "(array([0]), array([913]))\n",
      "(array([0]), array([6]))\n",
      "(array([0]), array([13]))\n",
      "(array([0]), array([2005]))\n",
      "(array([0]), array([11]))\n",
      "(array([0]), array([913]))\n",
      "(array([0]), array([30]))\n",
      "(array([0]), array([236]))\n",
      "(array([0]), array([874]))\n",
      "(array([], dtype=int64), array([], dtype=int64))\n"
     ]
    },
    {
     "ename": "IndexError",
     "evalue": "index 0 is out of bounds for axis 0 with size 0",
     "output_type": "error",
     "traceback": [
      "\u001b[0;31m---------------------------------------------------------------------------\u001b[0m",
      "\u001b[0;31mIndexError\u001b[0m                                Traceback (most recent call last)",
      "\u001b[0;32m<ipython-input-185-a034b36916c8>\u001b[0m in \u001b[0;36m<module>\u001b[0;34m\u001b[0m\n\u001b[1;32m     24\u001b[0m     \u001b[0mprint\u001b[0m\u001b[0;34m(\u001b[0m\u001b[0mvocab\u001b[0m\u001b[0;34m[\u001b[0m\u001b[0mindex\u001b[0m\u001b[0;34m]\u001b[0m \u001b[0;34m,\u001b[0m \u001b[0mend\u001b[0m\u001b[0;34m=\u001b[0m\u001b[0;34m\" \"\u001b[0m\u001b[0;34m)\u001b[0m\u001b[0;34m\u001b[0m\u001b[0;34m\u001b[0m\u001b[0m\n\u001b[1;32m     25\u001b[0m \u001b[0;34m\u001b[0m\u001b[0m\n\u001b[0;32m---> 26\u001b[0;31m \u001b[0mindex_encoding\u001b[0m\u001b[0;34m(\u001b[0m\u001b[0mtrain_desc\u001b[0m\u001b[0;34m.\u001b[0m\u001b[0mnumpy\u001b[0m\u001b[0;34m(\u001b[0m\u001b[0;34m)\u001b[0m\u001b[0;34m,\u001b[0m \u001b[0mencoder\u001b[0m\u001b[0;34m)\u001b[0m\u001b[0;34m\u001b[0m\u001b[0;34m\u001b[0m\u001b[0m\n\u001b[0m",
      "\u001b[0;32m<ipython-input-185-a034b36916c8>\u001b[0m in \u001b[0;36mindex_encoding\u001b[0;34m(text, encoder)\u001b[0m\n\u001b[1;32m      8\u001b[0m         \u001b[0mprint\u001b[0m\u001b[0;34m(\u001b[0m\u001b[0mnon_zero\u001b[0m\u001b[0;34m)\u001b[0m\u001b[0;34m\u001b[0m\u001b[0;34m\u001b[0m\u001b[0m\n\u001b[1;32m      9\u001b[0m         \u001b[0;32mif\u001b[0m \u001b[0mlen\u001b[0m\u001b[0;34m(\u001b[0m\u001b[0mnon_zero\u001b[0m\u001b[0;34m)\u001b[0m \u001b[0;34m==\u001b[0m \u001b[0;36m2\u001b[0m\u001b[0;34m:\u001b[0m\u001b[0;34m\u001b[0m\u001b[0;34m\u001b[0m\u001b[0m\n\u001b[0;32m---> 10\u001b[0;31m             \u001b[0mindex\u001b[0m \u001b[0;34m=\u001b[0m \u001b[0mint\u001b[0m\u001b[0;34m(\u001b[0m\u001b[0mnon_zero\u001b[0m\u001b[0;34m[\u001b[0m\u001b[0;36m1\u001b[0m\u001b[0;34m]\u001b[0m\u001b[0;34m[\u001b[0m\u001b[0;36m0\u001b[0m\u001b[0;34m]\u001b[0m\u001b[0;34m)\u001b[0m\u001b[0;34m\u001b[0m\u001b[0;34m\u001b[0m\u001b[0m\n\u001b[0m\u001b[1;32m     11\u001b[0m         \u001b[0;32melif\u001b[0m \u001b[0mlen\u001b[0m\u001b[0;34m(\u001b[0m\u001b[0mnon_zero\u001b[0m\u001b[0;34m)\u001b[0m \u001b[0;34m==\u001b[0m \u001b[0;36m1\u001b[0m\u001b[0;34m:\u001b[0m\u001b[0;34m\u001b[0m\u001b[0;34m\u001b[0m\u001b[0m\n\u001b[1;32m     12\u001b[0m             \u001b[0mindex\u001b[0m \u001b[0;34m=\u001b[0m \u001b[0;36m0\u001b[0m\u001b[0;34m\u001b[0m\u001b[0;34m\u001b[0m\u001b[0m\n",
      "\u001b[0;31mIndexError\u001b[0m: index 0 is out of bounds for axis 0 with size 0"
     ]
    }
   ],
   "source": [
    "vocab = encoder.get_vocabulary()\n",
    "\n",
    "def index_encoding(text, encoder):\n",
    "    indices = []\n",
    "    for word in text.decode(\"UTF-8\").split(\" \"):\n",
    "        encoding = encoder(word).numpy()\n",
    "        non_zero = np.nonzero(encoding)\n",
    "        print(non_zero)\n",
    "        if len(non_zero) == 2:\n",
    "            index = int(non_zero[1][0])\n",
    "        elif len(non_zero) == 1:\n",
    "            index = 0\n",
    "        else:\n",
    "            raise ValueError()\n",
    "            \n",
    "        indices.append(index)        \n",
    "    return indices\n",
    "            \n",
    "for word in verify_encoding.numpy():\n",
    "    non_zero_entries, indices = count_and_find_non_zero(word)\n",
    "    assert non_zero_entries == 1\n",
    "    index = indices[0]\n",
    "    seen_by_network.append((vocab[index], index))\n",
    "    print(vocab[index] , end=\" \")\n",
    "    \n",
    "index_encoding(train_desc.numpy(), encoder)\n"
   ]
  },
  {
   "cell_type": "markdown",
   "id": "b0905ee3",
   "metadata": {},
   "source": [
    "## Retrieve trained Dense layers - as we want saliency on encoded words"
   ]
  },
  {
   "cell_type": "code",
   "execution_count": 153,
   "id": "42a0fa84",
   "metadata": {},
   "outputs": [
    {
     "name": "stdout",
     "output_type": "stream",
     "text": [
      "Model: \"functional_49\"\n",
      "_________________________________________________________________\n",
      "Layer (type)                 Output Shape              Param #   \n",
      "=================================================================\n",
      "input_20 (InputLayer)        [(None, 5000)]            0         \n",
      "_________________________________________________________________\n",
      "dense_12 (Dense)             (None, 64)                320064    \n",
      "_________________________________________________________________\n",
      "dense_13 (Dense)             (None, 32)                2080      \n",
      "_________________________________________________________________\n",
      "dense_14 (Dense)             (None, 1)                 33        \n",
      "=================================================================\n",
      "Total params: 322,177\n",
      "Trainable params: 322,177\n",
      "Non-trainable params: 0\n",
      "_________________________________________________________________\n"
     ]
    }
   ],
   "source": [
    "encoded_input = Input(shape=(5000,))\n",
    "net = encoded_input\n",
    "\n",
    "for layer in model.layers[-3:]:\n",
    "    net = layer(net)\n",
    "saliency_model = tf.keras.Model(encoded_input, net)\n",
    "saliency_model.summary()"
   ]
  },
  {
   "cell_type": "code",
   "execution_count": 169,
   "id": "acb10708",
   "metadata": {
    "scrolled": true
   },
   "outputs": [
    {
     "name": "stdout",
     "output_type": "stream",
     "text": [
      "tf.Tensor([[10114.734]], shape=(1, 1), dtype=float32)\n",
      "tf.Tensor([[10114.734]], shape=(1, 1), dtype=float32)\n"
     ]
    }
   ],
   "source": [
    "saliency_res = saliency_model(train_encoding)\n",
    "model_res = model(train_desc_batched)\n",
    "print(saliency_res)\n",
    "print(model_res)"
   ]
  },
  {
   "cell_type": "code",
   "execution_count": 155,
   "id": "770b2ae1",
   "metadata": {},
   "outputs": [
    {
     "name": "stdout",
     "output_type": "stream",
     "text": [
      "WARNING:tensorflow:The dtype of the watched tensor must be floating (e.g. tf.float32), got tf.string\n",
      "[ 48.61583    30.870617  -10.390949  ...  -1.5274127 -41.0732\n",
      " 125.80129  ]\n"
     ]
    }
   ],
   "source": [
    "with tf.GradientTape() as tape:\n",
    "    tape.watch(train_encoding)\n",
    "    tape.watch(train_desc_batched)\n",
    "    saliency_res = saliency_model(train_encoding)\n",
    "    model_res = model(train_desc_batched)\n",
    "\n",
    "encoded_saliency = tape.gradient(saliency_res, train_encoding).numpy()[0]\n",
    "print(encoded_saliency)\n",
    "# direct_saliency = tape.gradient(model_res, train_desc_batched)"
   ]
  },
  {
   "cell_type": "code",
   "execution_count": 170,
   "id": "feb6fbff",
   "metadata": {},
   "outputs": [
    {
     "name": "stdout",
     "output_type": "stream",
     "text": [
      "840.422\n",
      "-302.91544\n"
     ]
    }
   ],
   "source": [
    "def map_to_unit(grads):\n",
    "    _max = grads.max()\n",
    "    print(_max)\n",
    "    _min = grads.min()\n",
    "    print(_min)\n",
    "    return [(grad-_min)/(_max- _min) for grad in grads]\n",
    "\n",
    "highlight_intensity = map_to_unit(encoded_saliency)"
   ]
  },
  {
   "cell_type": "code",
   "execution_count": 168,
   "id": "670d2c48",
   "metadata": {},
   "outputs": [
    {
     "data": {
      "image/png": "[encoded data removed]",
      "text/plain": [
       "<Figure size 1440x1440 with 1 Axes>"
      ]
     },
     "metadata": {
      "needs_background": "light"
     },
     "output_type": "display_data"
    }
   ],
   "source": [
    "text, indices = list(zip(*seen_by_network))\n",
    "alphas = [highlight_intensity[idx] for idx in indices]\n",
    "\n",
    "import matplotlib.pyplot as plt\n",
    "from matplotlib.patches import Rectangle\n",
    "from matplotlib.collections import PatchCollection\n",
    "from typing import Iterable\n",
    "\n",
    "def text_saliency(text: Iterable, alphas: Iterable, height=None, width=20, word_width=2):\n",
    "    if height is None:\n",
    "        height = len(text)//(width//word_width) + 1\n",
    "    \n",
    "    def highlight(x, y, intensity=0.2, word_width=word_width):\n",
    "        pc = [Rectangle((x-0.5, y-0.5), word_width, 1)]\n",
    "        pc = PatchCollection(pc, facecolor=\"g\", alpha=intensity,\n",
    "                             edgecolor=\"black\")\n",
    "        plt.gca().add_collection(pc)\n",
    "    \n",
    "    plt.figure(figsize=(width,height))\n",
    "    plt.axis(\"off\")\n",
    "    plt.axis([0, width, 0, height])\n",
    "    loc = [0.5, height-0.5]\n",
    "    for word, alpha in zip(text, alphas):\n",
    "        highlight(*loc, intensity=alpha)\n",
    "        loc = list(plt.text(*loc, word).get_position())\n",
    "        loc[0] += word_width\n",
    "        if loc[0] > width:\n",
    "            loc[0] = 0.5\n",
    "            loc[1] -=1\n",
    "\n",
    "text_saliency(text, alphas)"
   ]
  },
  {
   "cell_type": "code",
   "execution_count": null,
   "id": "8d337b1d",
   "metadata": {},
   "outputs": [],
   "source": []
  }
 ],
 "metadata": {
  "kernelspec": {
   "display_name": "venv",
   "language": "python",
   "name": "venv"
  },
  "language_info": {
   "codemirror_mode": {
    "name": "ipython",
    "version": 3
   },
   "file_extension": ".py",
   "mimetype": "text/x-python",
   "name": "python",
   "nbconvert_exporter": "python",
   "pygments_lexer": "ipython3",
   "version": "3.8.5"
  }
 },
 "nbformat": 4,
 "nbformat_minor": 5
}
